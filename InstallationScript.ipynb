{
 "cells": [
  {
   "cell_type": "markdown",
   "metadata": {},
   "source": [
    "# Installation of alphaMELTS for python source files on Victor"
   ]
  },
  {
   "cell_type": "markdown",
   "metadata": {},
   "source": [
    "## Step 1 - Pip install PetThermoTools and it's dependencies"
   ]
  },
  {
   "cell_type": "code",
   "execution_count": null,
   "metadata": {},
   "outputs": [],
   "source": [
    "!pip install PetThermoTools\n",
    "#!pip install --upgrade PetThermoTools"
   ]
  },
  {
   "cell_type": "markdown",
   "metadata": {},
   "source": [
    "## Step 2 - Download alphaMELTS for Python files and add them to your Python path. "
   ]
  },
  {
   "cell_type": "markdown",
   "metadata": {},
   "source": [
    "This code will do a  few things:\n",
    "1. Locate the alphaMELTS for python source files from GitHub.\n",
    "2. Download the .zip file containing the source files.\n",
    "3. Extract the files into a folder named 'alphamelts_py'\n",
    "4. Add this folder to your Python path."
   ]
  },
  {
   "cell_type": "code",
   "execution_count": 1,
   "metadata": {},
   "outputs": [],
   "source": [
    "import PetThermoTools as ptt "
   ]
  },
  {
   "cell_type": "code",
   "execution_count": 2,
   "metadata": {},
   "outputs": [
    {
     "name": "stdout",
     "output_type": "stream",
     "text": [
      "Download and Extraction of alphaMELTS for Python files is successful.\n"
     ]
    }
   ],
   "source": [
    "# to add files to current working directory\n",
    "ptt.install_alphaMELTS()\n",
    "# to add files to folder of choice\n",
    "# ptt.install_alphaMELTS(chip=\"Apple\", file_location=\"/Users/gleesonm/Library/CloudStorage/GoogleDrive-matthew.gleeson.geo@gmail.com/My Drive/!!!Berkeley/2024/MELTS/\") # change the chip variable to \"Windows\", \"Linux\", or \"Intel4Mac\" depending on your OS an chip type."
   ]
  },
  {
   "cell_type": "markdown",
   "metadata": {},
   "source": [
    "To check that the download and extract proceeded without issue run the code below. This should print a message with current alphaMELTS verions (2.3) if there are no issues."
   ]
  },
  {
   "cell_type": "code",
   "execution_count": 3,
   "metadata": {},
   "outputs": [
    {
     "data": {
      "text/plain": [
       "'2.3'"
      ]
     },
     "execution_count": 3,
     "metadata": {},
     "output_type": "execute_result"
    }
   ],
   "source": [
    "from meltsdynamic import MELTSdynamic\n",
    "MELTSdynamic.version"
   ]
  },
  {
   "cell_type": "code",
   "execution_count": 4,
   "metadata": {},
   "outputs": [
    {
     "name": "stdout",
     "output_type": "stream",
     "text": [
      "\n",
      "alphaMELTS for Python version 2.3.1beta (Aug  3 2024 10:01:38)\n",
      "Setting calculation mode to rhyolite-MELTS 1.0.2\n",
      "\n"
     ]
    },
    {
     "data": {
      "text/plain": [
       "'2.3.1beta (Aug  3 2024 10:01:38)'"
      ]
     },
     "execution_count": 4,
     "metadata": {},
     "output_type": "execute_result"
    }
   ],
   "source": [
    "meltstest = MELTSdynamic(1)\n",
    "meltstest.version"
   ]
  },
  {
   "cell_type": "markdown",
   "metadata": {},
   "source": [
    "# Test the installation\n",
    "If everything worked correctly the code below should run with no issue."
   ]
  },
  {
   "cell_type": "code",
   "execution_count": null,
   "metadata": {},
   "outputs": [],
   "source": [
    "# we'll set a typical mid-ocean ridge basalt composition and run isobaric crystallisation at 100 MPa (1000 bars)\n",
    "bulk = {'SiO2_Liq': 49.72,\n",
    "        'TiO2_Liq': 1.44,\n",
    "        'Al2O3_Liq': 14.32,\n",
    "        'FeOt_Liq': 10.53,\n",
    "        'MnO_Liq': 0.18,\n",
    "        'MgO_Liq': 9.29,\n",
    "        'CaO_Liq': 10.73,\n",
    "        'Na2O_Liq': 2.57,\n",
    "        'K2O_Liq': 0.35}\n",
    "\n",
    "Results = ptt.isobaric_crystallisation(Model = \"MELTSv1.0.2\", # specify what version of MELTS we want to use\n",
    "                                     bulk = bulk, # set the bulk/initial composition\n",
    "                                     P_bar = 1000, # set the pressure in bars\n",
    "                                     find_liquidus = True, # start the calculation at the liquidus\n",
    "                                     dt_C = 2, # a 2 degree celsius increment will be used\n",
    "                                     T_end_C = 950, # the calculation will stop where the model fails or when the temperature reaches 950 degrees celsuis\n",
    "                                     Fe3Fet_Liq = 0.13, # the Fe3+/Fe total ratio of the system\n",
    "                                     H2O_Liq = 0.2) # the water content of the initial system (in grams)"
   ]
  },
  {
   "cell_type": "code",
   "execution_count": null,
   "metadata": {},
   "outputs": [],
   "source": [
    "ptt.harker(Results = Results)"
   ]
  },
  {
   "cell_type": "markdown",
   "metadata": {},
   "source": [
    "# Remove alphaMELTS files from the Python path"
   ]
  },
  {
   "cell_type": "markdown",
   "metadata": {},
   "source": [
    "This might be necessary in cases where there is a new version of alphaMELTS for Python that you want to upgrade to."
   ]
  },
  {
   "cell_type": "code",
   "execution_count": 6,
   "metadata": {},
   "outputs": [],
   "source": [
    "# ptt.remove_alphaMELTS_path()"
   ]
  }
 ],
 "metadata": {
  "kernelspec": {
   "display_name": "base",
   "language": "python",
   "name": "python3"
  },
  "language_info": {
   "codemirror_mode": {
    "name": "ipython",
    "version": 3
   },
   "file_extension": ".py",
   "mimetype": "text/x-python",
   "name": "python",
   "nbconvert_exporter": "python",
   "pygments_lexer": "ipython3",
   "version": "3.11.0"
  },
  "orig_nbformat": 4
 },
 "nbformat": 4,
 "nbformat_minor": 2
}
