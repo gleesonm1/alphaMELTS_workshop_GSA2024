{
 "cells": [
  {
   "cell_type": "code",
   "execution_count": 1,
   "metadata": {},
   "outputs": [],
   "source": [
    "# If you're not using a Mac computer please change this to False\n",
    "Mac = True\n",
    "import sys\n",
    "import os"
   ]
  },
  {
   "cell_type": "code",
   "execution_count": 2,
   "metadata": {},
   "outputs": [],
   "source": [
    "# uncomment and run if the alphaMELTS for Python is not permanently added to your Python path\n",
    "# import sys\n",
    "# sys.path.append(r\"/home/jovyan/shared/Models/alphaMELTS/\")"
   ]
  },
  {
   "cell_type": "code",
   "execution_count": 3,
   "metadata": {},
   "outputs": [],
   "source": [
    "# import core python packages that we'll use for plotting and data manipulation.\n",
    "import numpy as np\n",
    "import pandas as pd\n",
    "import matplotlib.pyplot as plt"
   ]
  },
  {
   "cell_type": "code",
   "execution_count": 4,
   "metadata": {},
   "outputs": [
    {
     "name": "stdout",
     "output_type": "stream",
     "text": [
      "0.2.13\n",
      "1.0.43\n"
     ]
    }
   ],
   "source": [
    "# let's load the MELTS packages. the second line isn't strictly necessary but helps us check the alphaMELTS files are all 'discoverable'\n",
    "import PetThermoTools as ptt \n",
    "import Thermobar as pt\n",
    "from meltsdynamic import MELTSdynamic\n",
    "\n",
    "print(ptt.__version__)\n",
    "print(pt.__version__)"
   ]
  },
  {
   "cell_type": "code",
   "execution_count": 6,
   "metadata": {},
   "outputs": [],
   "source": [
    "## If using Mac run this cell twice \n",
    "if Mac is True:\n",
    "    sys.stdout = open(os.devnull, 'w')\n",
    "    sys.stderr = open(os.devnull, 'w')"
   ]
  },
  {
   "cell_type": "markdown",
   "metadata": {},
   "source": [
    "# Magma decompression - comparing decompression models for OIBs and Arc dacites"
   ]
  },
  {
   "cell_type": "markdown",
   "metadata": {},
   "source": [
    "Magma decompression calculations represent a common use of the MELTS algorithms, especially since the incorporation of a mixed H2O-CO2 solubility model in 2015 (Ghiorso and Gualda, 2015). One of the major advantages of running magma decompression calculations in a thermodynamic framework (i.e., MELTS) is the ability to track, not only exsolution of a fluid phase, but also the influence of decompression and degassing on the system temperature, crystallinity, and viscosity. We'll explore these parameters in more detail below, but first we need some data to work with!"
   ]
  },
  {
   "cell_type": "markdown",
   "metadata": {},
   "source": [
    "First, let's load in some olivine-hosted melt inclusion data from Kilauea, Hawai'i (Wieser et al., 2022). This data is from the 2018 eruption and matrix glass analyses can be found in one of the other sheets in the excel file. Once you've ran the code below you should be able to see the structure of this data, including previous estimates of entrapment temperature (based on the liquid MgO content) and pressure (based of H2O-CO2 solubility)."
   ]
  },
  {
   "cell_type": "code",
   "execution_count": 7,
   "metadata": {},
   "outputs": [
    {
     "data": {
      "text/html": [
       "<div>\n",
       "<style scoped>\n",
       "    .dataframe tbody tr th:only-of-type {\n",
       "        vertical-align: middle;\n",
       "    }\n",
       "\n",
       "    .dataframe tbody tr th {\n",
       "        vertical-align: top;\n",
       "    }\n",
       "\n",
       "    .dataframe thead th {\n",
       "        text-align: right;\n",
       "    }\n",
       "</style>\n",
       "<table border=\"1\" class=\"dataframe\">\n",
       "  <thead>\n",
       "    <tr style=\"text-align: right;\">\n",
       "      <th></th>\n",
       "      <th>Label</th>\n",
       "      <th>Na2O_Liq</th>\n",
       "      <th>Al2O3_Liq</th>\n",
       "      <th>P2O5_Liq</th>\n",
       "      <th>CaO_Liq</th>\n",
       "      <th>K2O_Liq</th>\n",
       "      <th>TiO2_Liq</th>\n",
       "      <th>SiO2_Liq</th>\n",
       "      <th>MgO_Liq</th>\n",
       "      <th>FeOt_Liq</th>\n",
       "      <th>...</th>\n",
       "      <th>CO2_Liq</th>\n",
       "      <th>SO2_Liq</th>\n",
       "      <th>MgO_Ol</th>\n",
       "      <th>SiO2_Ol</th>\n",
       "      <th>FeOt_Ol</th>\n",
       "      <th>Al2O3_Ol</th>\n",
       "      <th>CaO_Ol</th>\n",
       "      <th>MnO_Ol</th>\n",
       "      <th>NiO_Ol</th>\n",
       "      <th>P_bars</th>\n",
       "    </tr>\n",
       "  </thead>\n",
       "  <tbody>\n",
       "    <tr>\n",
       "      <th>0</th>\n",
       "      <td>LLD_LL1_80</td>\n",
       "      <td>2.636</td>\n",
       "      <td>13.392</td>\n",
       "      <td>0.337</td>\n",
       "      <td>9.859</td>\n",
       "      <td>0.675</td>\n",
       "      <td>3.229</td>\n",
       "      <td>51.423</td>\n",
       "      <td>6.191</td>\n",
       "      <td>11.396</td>\n",
       "      <td>...</td>\n",
       "      <td>0.025772</td>\n",
       "      <td>0.260182</td>\n",
       "      <td>40.67610</td>\n",
       "      <td>39.50335</td>\n",
       "      <td>19.94265</td>\n",
       "      <td>0.02705</td>\n",
       "      <td>0.24615</td>\n",
       "      <td>0.29030</td>\n",
       "      <td>0.19135</td>\n",
       "      <td>420.0</td>\n",
       "    </tr>\n",
       "    <tr>\n",
       "      <th>1</th>\n",
       "      <td>LLD_LL1_103</td>\n",
       "      <td>2.602</td>\n",
       "      <td>13.202</td>\n",
       "      <td>0.364</td>\n",
       "      <td>9.729</td>\n",
       "      <td>0.635</td>\n",
       "      <td>3.343</td>\n",
       "      <td>51.375</td>\n",
       "      <td>6.001</td>\n",
       "      <td>11.876</td>\n",
       "      <td>...</td>\n",
       "      <td>0.021389</td>\n",
       "      <td>0.268108</td>\n",
       "      <td>40.16410</td>\n",
       "      <td>39.26485</td>\n",
       "      <td>21.20375</td>\n",
       "      <td>0.02400</td>\n",
       "      <td>0.23895</td>\n",
       "      <td>0.29335</td>\n",
       "      <td>0.18700</td>\n",
       "      <td>360.0</td>\n",
       "    </tr>\n",
       "    <tr>\n",
       "      <th>2</th>\n",
       "      <td>LLE_LL4_19b</td>\n",
       "      <td>2.303</td>\n",
       "      <td>13.523</td>\n",
       "      <td>0.378</td>\n",
       "      <td>10.594</td>\n",
       "      <td>0.429</td>\n",
       "      <td>2.550</td>\n",
       "      <td>50.793</td>\n",
       "      <td>7.432</td>\n",
       "      <td>11.337</td>\n",
       "      <td>...</td>\n",
       "      <td>0.040292</td>\n",
       "      <td>0.232708</td>\n",
       "      <td>41.77670</td>\n",
       "      <td>39.36000</td>\n",
       "      <td>18.14420</td>\n",
       "      <td>0.03220</td>\n",
       "      <td>0.23040</td>\n",
       "      <td>0.25460</td>\n",
       "      <td>0.24260</td>\n",
       "      <td>640.0</td>\n",
       "    </tr>\n",
       "    <tr>\n",
       "      <th>3</th>\n",
       "      <td>LLE_LL4_19c</td>\n",
       "      <td>2.435</td>\n",
       "      <td>13.435</td>\n",
       "      <td>0.276</td>\n",
       "      <td>10.170</td>\n",
       "      <td>0.382</td>\n",
       "      <td>2.512</td>\n",
       "      <td>51.117</td>\n",
       "      <td>7.526</td>\n",
       "      <td>11.434</td>\n",
       "      <td>...</td>\n",
       "      <td>0.022817</td>\n",
       "      <td>0.220636</td>\n",
       "      <td>41.93930</td>\n",
       "      <td>39.27305</td>\n",
       "      <td>18.17150</td>\n",
       "      <td>0.03355</td>\n",
       "      <td>0.22475</td>\n",
       "      <td>0.26455</td>\n",
       "      <td>0.24030</td>\n",
       "      <td>370.0</td>\n",
       "    </tr>\n",
       "    <tr>\n",
       "      <th>4</th>\n",
       "      <td>LLE_LL4_33b</td>\n",
       "      <td>2.435</td>\n",
       "      <td>13.747</td>\n",
       "      <td>0.347</td>\n",
       "      <td>10.397</td>\n",
       "      <td>0.496</td>\n",
       "      <td>2.758</td>\n",
       "      <td>51.649</td>\n",
       "      <td>6.020</td>\n",
       "      <td>11.338</td>\n",
       "      <td>...</td>\n",
       "      <td>0.024655</td>\n",
       "      <td>0.214180</td>\n",
       "      <td>40.54345</td>\n",
       "      <td>39.10665</td>\n",
       "      <td>19.30270</td>\n",
       "      <td>0.02980</td>\n",
       "      <td>0.25095</td>\n",
       "      <td>0.27350</td>\n",
       "      <td>0.18230</td>\n",
       "      <td>420.0</td>\n",
       "    </tr>\n",
       "  </tbody>\n",
       "</table>\n",
       "<p>5 rows × 22 columns</p>\n",
       "</div>"
      ],
      "text/plain": [
       "         Label  Na2O_Liq  Al2O3_Liq  P2O5_Liq  CaO_Liq  K2O_Liq  TiO2_Liq  \\\n",
       "0   LLD_LL1_80     2.636     13.392     0.337    9.859    0.675     3.229   \n",
       "1  LLD_LL1_103     2.602     13.202     0.364    9.729    0.635     3.343   \n",
       "2  LLE_LL4_19b     2.303     13.523     0.378   10.594    0.429     2.550   \n",
       "3  LLE_LL4_19c     2.435     13.435     0.276   10.170    0.382     2.512   \n",
       "4  LLE_LL4_33b     2.435     13.747     0.347   10.397    0.496     2.758   \n",
       "\n",
       "   SiO2_Liq  MgO_Liq  FeOt_Liq  ...   CO2_Liq   SO2_Liq    MgO_Ol   SiO2_Ol  \\\n",
       "0    51.423    6.191    11.396  ...  0.025772  0.260182  40.67610  39.50335   \n",
       "1    51.375    6.001    11.876  ...  0.021389  0.268108  40.16410  39.26485   \n",
       "2    50.793    7.432    11.337  ...  0.040292  0.232708  41.77670  39.36000   \n",
       "3    51.117    7.526    11.434  ...  0.022817  0.220636  41.93930  39.27305   \n",
       "4    51.649    6.020    11.338  ...  0.024655  0.214180  40.54345  39.10665   \n",
       "\n",
       "    FeOt_Ol  Al2O3_Ol   CaO_Ol   MnO_Ol   NiO_Ol  P_bars  \n",
       "0  19.94265   0.02705  0.24615  0.29030  0.19135   420.0  \n",
       "1  21.20375   0.02400  0.23895  0.29335  0.18700   360.0  \n",
       "2  18.14420   0.03220  0.23040  0.25460  0.24260   640.0  \n",
       "3  18.17150   0.03355  0.22475  0.26455  0.24030   370.0  \n",
       "4  19.30270   0.02980  0.25095  0.27350  0.18230   420.0  \n",
       "\n",
       "[5 rows x 22 columns]"
      ]
     },
     "execution_count": 7,
     "metadata": {},
     "output_type": "execute_result"
    }
   ],
   "source": [
    "Kilauea = pd.read_excel('Kilauea.xlsx', sheet_name='Olivine')\n",
    "Kilauea = Kilauea.fillna(0.0)\n",
    "Kilauea.head()"
   ]
  },
  {
   "cell_type": "markdown",
   "metadata": {},
   "source": [
    "So that we have a nice comparison to the relatively dry, tholeiitic magmas of Hawai'i, let's also load in a set of melt inclusion (in amphiboles and plagioclase, A1 and P1 'types' respectively) and groundmass glass data from the white pumice of the 1980 Mt St Helens eruption (Blundy and Cashman, 2005). You should be able to see that these samples have a reported H2O content, but no measured CO2 (although Jon Blundy did later detect, and measure CO2 - up to 0.04 wt% - in Mt St Helens melt inclusions)."
   ]
  },
  {
   "cell_type": "code",
   "execution_count": 8,
   "metadata": {},
   "outputs": [
    {
     "data": {
      "text/html": [
       "<div>\n",
       "<style scoped>\n",
       "    .dataframe tbody tr th:only-of-type {\n",
       "        vertical-align: middle;\n",
       "    }\n",
       "\n",
       "    .dataframe tbody tr th {\n",
       "        vertical-align: top;\n",
       "    }\n",
       "\n",
       "    .dataframe thead th {\n",
       "        text-align: right;\n",
       "    }\n",
       "</style>\n",
       "<table border=\"1\" class=\"dataframe\">\n",
       "  <thead>\n",
       "    <tr style=\"text-align: right;\">\n",
       "      <th></th>\n",
       "      <th>sample</th>\n",
       "      <th>Type</th>\n",
       "      <th>SiO2</th>\n",
       "      <th>TiO2</th>\n",
       "      <th>Al2O3</th>\n",
       "      <th>FeOt</th>\n",
       "      <th>MnO</th>\n",
       "      <th>MgO</th>\n",
       "      <th>CaO</th>\n",
       "      <th>Na2O</th>\n",
       "      <th>K2O</th>\n",
       "      <th>H2O</th>\n",
       "      <th>Total</th>\n",
       "    </tr>\n",
       "  </thead>\n",
       "  <tbody>\n",
       "    <tr>\n",
       "      <th>0</th>\n",
       "      <td>KCHB-4Aa</td>\n",
       "      <td>A1</td>\n",
       "      <td>68.05</td>\n",
       "      <td>0.33</td>\n",
       "      <td>12.96</td>\n",
       "      <td>2.72</td>\n",
       "      <td>0.12</td>\n",
       "      <td>0.98</td>\n",
       "      <td>1.95</td>\n",
       "      <td>5.60</td>\n",
       "      <td>1.93</td>\n",
       "      <td>4.63</td>\n",
       "      <td>99.26</td>\n",
       "    </tr>\n",
       "    <tr>\n",
       "      <th>1</th>\n",
       "      <td>KCHB-7Ab</td>\n",
       "      <td>A1</td>\n",
       "      <td>69.01</td>\n",
       "      <td>0.37</td>\n",
       "      <td>14.07</td>\n",
       "      <td>2.19</td>\n",
       "      <td>0.02</td>\n",
       "      <td>0.36</td>\n",
       "      <td>2.25</td>\n",
       "      <td>5.54</td>\n",
       "      <td>1.85</td>\n",
       "      <td>3.19</td>\n",
       "      <td>99.09</td>\n",
       "    </tr>\n",
       "    <tr>\n",
       "      <th>2</th>\n",
       "      <td>KCHB-8Aa</td>\n",
       "      <td>A1</td>\n",
       "      <td>70.19</td>\n",
       "      <td>0.35</td>\n",
       "      <td>14.70</td>\n",
       "      <td>2.52</td>\n",
       "      <td>0.03</td>\n",
       "      <td>0.34</td>\n",
       "      <td>2.24</td>\n",
       "      <td>6.51</td>\n",
       "      <td>1.72</td>\n",
       "      <td>1.83</td>\n",
       "      <td>100.43</td>\n",
       "    </tr>\n",
       "    <tr>\n",
       "      <th>3</th>\n",
       "      <td>KCHB-I IR</td>\n",
       "      <td>A1</td>\n",
       "      <td>65.81</td>\n",
       "      <td>0.51</td>\n",
       "      <td>15.03</td>\n",
       "      <td>2.13</td>\n",
       "      <td>0.00</td>\n",
       "      <td>0.37</td>\n",
       "      <td>2.35</td>\n",
       "      <td>5.65</td>\n",
       "      <td>2.44</td>\n",
       "      <td>4.92</td>\n",
       "      <td>99.2</td>\n",
       "    </tr>\n",
       "    <tr>\n",
       "      <th>4</th>\n",
       "      <td>KCHB-I IB'</td>\n",
       "      <td>A1</td>\n",
       "      <td>69.71</td>\n",
       "      <td>0.21</td>\n",
       "      <td>14.15</td>\n",
       "      <td>2.48</td>\n",
       "      <td>0.00</td>\n",
       "      <td>0.45</td>\n",
       "      <td>2.23</td>\n",
       "      <td>6.39</td>\n",
       "      <td>2.03</td>\n",
       "      <td>2.66</td>\n",
       "      <td>100.29</td>\n",
       "    </tr>\n",
       "  </tbody>\n",
       "</table>\n",
       "</div>"
      ],
      "text/plain": [
       "       sample Type   SiO2  TiO2  Al2O3  FeOt   MnO   MgO   CaO  Na2O   K2O  \\\n",
       "0    KCHB-4Aa   A1  68.05  0.33  12.96  2.72  0.12  0.98  1.95  5.60  1.93   \n",
       "1    KCHB-7Ab   A1  69.01  0.37  14.07  2.19  0.02  0.36  2.25  5.54  1.85   \n",
       "2    KCHB-8Aa   A1  70.19  0.35  14.70  2.52  0.03  0.34  2.24  6.51  1.72   \n",
       "3   KCHB-I IR   A1  65.81  0.51  15.03  2.13  0.00  0.37  2.35  5.65  2.44   \n",
       "4  KCHB-I IB'   A1  69.71  0.21  14.15  2.48  0.00  0.45  2.23  6.39  2.03   \n",
       "\n",
       "    H2O   Total  \n",
       "0  4.63   99.26  \n",
       "1  3.19   99.09  \n",
       "2  1.83  100.43  \n",
       "3  4.92    99.2  \n",
       "4  2.66  100.29  "
      ]
     },
     "execution_count": 8,
     "metadata": {},
     "output_type": "execute_result"
    }
   ],
   "source": [
    "# Melt inclusion and groundmass glass data from Mt St Helens (Blundy and Cashman, 2005)\n",
    "StHelens = pd.read_excel('StHelens.xlsx', sheet_name='1980_WhitePumice')\n",
    "StHelens = StHelens.fillna(0.0)\n",
    "StHelens.head()"
   ]
  },
  {
   "cell_type": "markdown",
   "metadata": {},
   "source": [
    "Let's now create a TAS plot showing the differences between the Kilauea and Mt St Helens data. If you get to this point quickly and are waiting for us to move on load in the matrix glass data from Hawai'i as well (this can be found in a different sheet of the same excel file) and add that data to the plot."
   ]
  },
  {
   "cell_type": "code",
   "execution_count": 9,
   "metadata": {},
   "outputs": [
    {
     "data": {
      "text/plain": [
       "<matplotlib.legend.Legend at 0x173530150>"
      ]
     },
     "execution_count": 9,
     "metadata": {},
     "output_type": "execute_result"
    },
    {
     "data": {
      "image/png": "[encoded data removed]",
      "text/plain": [
       "<Figure size 640x480 with 1 Axes>"
      ]
     },
     "metadata": {},
     "output_type": "display_data"
    }
   ],
   "source": [
    "f, a = plt.subplots(1,1)\n",
    "a.plot(Kilauea['SiO2_Liq'], Kilauea['Na2O_Liq'] + Kilauea['K2O_Liq'], 'ok', mfc = 'b', label = '2018 Kilauea (Ol MI)')\n",
    "a.plot(StHelens['SiO2'], StHelens['Na2O'] + StHelens['K2O'], 'ok', mfc = 'r', label = '1980 Mt St Helens')\n",
    "a.set_xlabel('SiO$_2$ (wt%)')\n",
    "a.set_ylabel('Na$_2$O + K$_2$O (wt%)')\n",
    "a.legend()"
   ]
  },
  {
   "cell_type": "markdown",
   "metadata": {},
   "source": [
    "# Part 1 - Magma decompression at Kilauea"
   ]
  },
  {
   "cell_type": "markdown",
   "metadata": {},
   "source": [
    "To start, let's focus on Kilauea. If you want to see how these calculations were used to help explain why some fissures of the 2018 eruption were more explosive then others, have a read through this paper (https://doi.org/10.1029/2021GC010046). \n",
    "\n",
    "For these calculations let's focus our simulations onto Fissure 8 (now called Ahu'aila'au), the fissure that was responsible for the majority of the lava volume erupted. Using Pandas, and a simple .loc operator, we can separate out all of the analyses from fissure 8:"
   ]
  },
  {
   "cell_type": "code",
   "execution_count": 10,
   "metadata": {},
   "outputs": [
    {
     "data": {
      "text/html": [
       "<div>\n",
       "<style scoped>\n",
       "    .dataframe tbody tr th:only-of-type {\n",
       "        vertical-align: middle;\n",
       "    }\n",
       "\n",
       "    .dataframe tbody tr th {\n",
       "        vertical-align: top;\n",
       "    }\n",
       "\n",
       "    .dataframe thead th {\n",
       "        text-align: right;\n",
       "    }\n",
       "</style>\n",
       "<table border=\"1\" class=\"dataframe\">\n",
       "  <thead>\n",
       "    <tr style=\"text-align: right;\">\n",
       "      <th></th>\n",
       "      <th>Label</th>\n",
       "      <th>Na2O_Liq</th>\n",
       "      <th>Al2O3_Liq</th>\n",
       "      <th>P2O5_Liq</th>\n",
       "      <th>CaO_Liq</th>\n",
       "      <th>K2O_Liq</th>\n",
       "      <th>TiO2_Liq</th>\n",
       "      <th>SiO2_Liq</th>\n",
       "      <th>MgO_Liq</th>\n",
       "      <th>FeOt_Liq</th>\n",
       "      <th>...</th>\n",
       "      <th>CO2_Liq</th>\n",
       "      <th>SO2_Liq</th>\n",
       "      <th>MgO_Ol</th>\n",
       "      <th>SiO2_Ol</th>\n",
       "      <th>FeOt_Ol</th>\n",
       "      <th>Al2O3_Ol</th>\n",
       "      <th>CaO_Ol</th>\n",
       "      <th>MnO_Ol</th>\n",
       "      <th>NiO_Ol</th>\n",
       "      <th>P_bars</th>\n",
       "    </tr>\n",
       "  </thead>\n",
       "  <tbody>\n",
       "    <tr>\n",
       "      <th>0</th>\n",
       "      <td>LLF_LL8_249a</td>\n",
       "      <td>2.201</td>\n",
       "      <td>12.885</td>\n",
       "      <td>0.246</td>\n",
       "      <td>11.233</td>\n",
       "      <td>0.404</td>\n",
       "      <td>2.422</td>\n",
       "      <td>51.013</td>\n",
       "      <td>7.666</td>\n",
       "      <td>11.333</td>\n",
       "      <td>...</td>\n",
       "      <td>0.000985</td>\n",
       "      <td>0.041279</td>\n",
       "      <td>42.460433</td>\n",
       "      <td>39.601867</td>\n",
       "      <td>17.768333</td>\n",
       "      <td>0.027833</td>\n",
       "      <td>0.286700</td>\n",
       "      <td>0.2565</td>\n",
       "      <td>0.223833</td>\n",
       "      <td>50.0</td>\n",
       "    </tr>\n",
       "    <tr>\n",
       "      <th>1</th>\n",
       "      <td>LLf_LL8_249b</td>\n",
       "      <td>2.176</td>\n",
       "      <td>12.879</td>\n",
       "      <td>0.244</td>\n",
       "      <td>11.084</td>\n",
       "      <td>0.405</td>\n",
       "      <td>2.376</td>\n",
       "      <td>51.167</td>\n",
       "      <td>7.728</td>\n",
       "      <td>11.374</td>\n",
       "      <td>...</td>\n",
       "      <td>0.018104</td>\n",
       "      <td>0.070177</td>\n",
       "      <td>42.460433</td>\n",
       "      <td>39.601867</td>\n",
       "      <td>17.768333</td>\n",
       "      <td>0.027833</td>\n",
       "      <td>0.286700</td>\n",
       "      <td>0.2565</td>\n",
       "      <td>0.223833</td>\n",
       "      <td>310.0</td>\n",
       "    </tr>\n",
       "    <tr>\n",
       "      <th>2</th>\n",
       "      <td>LLf_LL8_249c</td>\n",
       "      <td>2.296</td>\n",
       "      <td>13.028</td>\n",
       "      <td>0.219</td>\n",
       "      <td>10.541</td>\n",
       "      <td>0.503</td>\n",
       "      <td>2.536</td>\n",
       "      <td>51.446</td>\n",
       "      <td>7.682</td>\n",
       "      <td>11.337</td>\n",
       "      <td>...</td>\n",
       "      <td>0.031528</td>\n",
       "      <td>0.115493</td>\n",
       "      <td>42.460433</td>\n",
       "      <td>39.601867</td>\n",
       "      <td>17.768333</td>\n",
       "      <td>0.027833</td>\n",
       "      <td>0.286700</td>\n",
       "      <td>0.2565</td>\n",
       "      <td>0.223833</td>\n",
       "      <td>500.0</td>\n",
       "    </tr>\n",
       "    <tr>\n",
       "      <th>3</th>\n",
       "      <td>LLf_LL8_249d</td>\n",
       "      <td>2.248</td>\n",
       "      <td>13.068</td>\n",
       "      <td>0.249</td>\n",
       "      <td>10.816</td>\n",
       "      <td>0.434</td>\n",
       "      <td>2.519</td>\n",
       "      <td>51.232</td>\n",
       "      <td>7.683</td>\n",
       "      <td>11.338</td>\n",
       "      <td>...</td>\n",
       "      <td>0.023488</td>\n",
       "      <td>0.117043</td>\n",
       "      <td>42.460433</td>\n",
       "      <td>39.601867</td>\n",
       "      <td>17.768333</td>\n",
       "      <td>0.027833</td>\n",
       "      <td>0.286700</td>\n",
       "      <td>0.2565</td>\n",
       "      <td>0.223833</td>\n",
       "      <td>380.0</td>\n",
       "    </tr>\n",
       "    <tr>\n",
       "      <th>4</th>\n",
       "      <td>LLG_LL8_402a</td>\n",
       "      <td>2.242</td>\n",
       "      <td>12.019</td>\n",
       "      <td>0.261</td>\n",
       "      <td>10.214</td>\n",
       "      <td>0.340</td>\n",
       "      <td>2.166</td>\n",
       "      <td>49.730</td>\n",
       "      <td>11.073</td>\n",
       "      <td>11.331</td>\n",
       "      <td>...</td>\n",
       "      <td>0.002907</td>\n",
       "      <td>0.143986</td>\n",
       "      <td>45.678367</td>\n",
       "      <td>40.026900</td>\n",
       "      <td>12.737133</td>\n",
       "      <td>0.049600</td>\n",
       "      <td>0.230733</td>\n",
       "      <td>0.1789</td>\n",
       "      <td>0.375967</td>\n",
       "      <td>80.0</td>\n",
       "    </tr>\n",
       "  </tbody>\n",
       "</table>\n",
       "<p>5 rows × 22 columns</p>\n",
       "</div>"
      ],
      "text/plain": [
       "          Label  Na2O_Liq  Al2O3_Liq  P2O5_Liq  CaO_Liq  K2O_Liq  TiO2_Liq  \\\n",
       "0  LLF_LL8_249a     2.201     12.885     0.246   11.233    0.404     2.422   \n",
       "1  LLf_LL8_249b     2.176     12.879     0.244   11.084    0.405     2.376   \n",
       "2  LLf_LL8_249c     2.296     13.028     0.219   10.541    0.503     2.536   \n",
       "3  LLf_LL8_249d     2.248     13.068     0.249   10.816    0.434     2.519   \n",
       "4  LLG_LL8_402a     2.242     12.019     0.261   10.214    0.340     2.166   \n",
       "\n",
       "   SiO2_Liq  MgO_Liq  FeOt_Liq  ...   CO2_Liq   SO2_Liq     MgO_Ol    SiO2_Ol  \\\n",
       "0    51.013    7.666    11.333  ...  0.000985  0.041279  42.460433  39.601867   \n",
       "1    51.167    7.728    11.374  ...  0.018104  0.070177  42.460433  39.601867   \n",
       "2    51.446    7.682    11.337  ...  0.031528  0.115493  42.460433  39.601867   \n",
       "3    51.232    7.683    11.338  ...  0.023488  0.117043  42.460433  39.601867   \n",
       "4    49.730   11.073    11.331  ...  0.002907  0.143986  45.678367  40.026900   \n",
       "\n",
       "     FeOt_Ol  Al2O3_Ol    CaO_Ol  MnO_Ol    NiO_Ol  P_bars  \n",
       "0  17.768333  0.027833  0.286700  0.2565  0.223833    50.0  \n",
       "1  17.768333  0.027833  0.286700  0.2565  0.223833   310.0  \n",
       "2  17.768333  0.027833  0.286700  0.2565  0.223833   500.0  \n",
       "3  17.768333  0.027833  0.286700  0.2565  0.223833   380.0  \n",
       "4  12.737133  0.049600  0.230733  0.1789  0.375967    80.0  \n",
       "\n",
       "[5 rows x 22 columns]"
      ]
     },
     "execution_count": 10,
     "metadata": {},
     "output_type": "execute_result"
    }
   ],
   "source": [
    "F8 = Kilauea.loc[Kilauea['Label'].str.contains('LL8')].copy()\n",
    "F8 = F8.reset_index(drop = True)\n",
    "F8.head()"
   ]
  },
  {
   "cell_type": "markdown",
   "metadata": {},
   "source": [
    "If we want to run a decompression calculation it probably makes sense to start out model at the highest pressure recorded by the melt inclusion dataset. We can extract that composition (and convert it into a Pandas Series) using the code below:"
   ]
  },
  {
   "cell_type": "code",
   "execution_count": 11,
   "metadata": {},
   "outputs": [
    {
     "data": {
      "text/plain": [
       "Label         LL8_610\n",
       "Na2O_Liq        1.991\n",
       "Al2O3_Liq      10.983\n",
       "P2O5_Liq        0.192\n",
       "CaO_Liq         9.581\n",
       "K2O_Liq         0.337\n",
       "TiO2_Liq        2.023\n",
       "SiO2_Liq       49.279\n",
       "MgO_Liq        13.734\n",
       "FeOt_Liq       11.335\n",
       "MnO_Liq         0.202\n",
       "H2O_Liq           0.5\n",
       "CO2_Liq      0.088678\n",
       "SO2_Liq      0.124077\n",
       "MgO_Ol       48.01215\n",
       "SiO2_Ol       40.3695\n",
       "FeOt_Ol       10.6914\n",
       "Al2O3_Ol      0.05295\n",
       "CaO_Ol         0.2257\n",
       "MnO_Ol        0.15175\n",
       "NiO_Ol         0.4021\n",
       "P_bars         1050.0\n",
       "Name: 17, dtype: object"
      ]
     },
     "execution_count": 11,
     "metadata": {},
     "output_type": "execute_result"
    }
   ],
   "source": [
    "F8_start = F8.loc[F8['P_bars'] == F8['P_bars'].max(),:].squeeze()\n",
    "F8_start"
   ]
  },
  {
   "cell_type": "markdown",
   "metadata": {},
   "source": [
    "Using PetThermoTools we can see what will have when we allow basaltic magma at Kilauea to decompress. For this calculation we'll assume we start at the liquidus at 1050 bars (the MagmaSat determined saturation pressure of this inclusion), we'll allow decompression to occur at a constant temperature. \n",
    "\n",
    "Some questions to think about as we move through the activity: What other thermal constraints could we empose on the system? Is an isothermal system realistic?"
   ]
  },
  {
   "cell_type": "code",
   "execution_count": 12,
   "metadata": {},
   "outputs": [],
   "source": [
    "Kil_decompress = ptt.isothermal_decompression(Model = \"MELTSv1.2.0\", # rhyolite-MELTS v1.2.0 - updated H2O-CO2 solubility model\n",
    "                                            bulk = F8_start, # composition defined above is our starting composition\n",
    "                                            find_liquidus=True, # specify that we want to start at the liquidus \n",
    "                                            fO2_buffer=\"FMQ\", # Impose a fO2 buffer\n",
    "                                            P_start_bar=1050, # starting pressure (in bars)\n",
    "                                            P_end_bar=50, # final pressure (in bars)\n",
    "                                            dp_bar=20) # pressure step (in bars)\n"
   ]
  },
  {
   "cell_type": "markdown",
   "metadata": {},
   "source": [
    "Inspect the results to see the composition of the fluid in wt% and molar proportions"
   ]
  },
  {
   "cell_type": "code",
   "execution_count": 13,
   "metadata": {},
   "outputs": [
    {
     "data": {
      "text/html": [
       "<div>\n",
       "<style scoped>\n",
       "    .dataframe tbody tr th:only-of-type {\n",
       "        vertical-align: middle;\n",
       "    }\n",
       "\n",
       "    .dataframe tbody tr th {\n",
       "        vertical-align: top;\n",
       "    }\n",
       "\n",
       "    .dataframe thead th {\n",
       "        text-align: right;\n",
       "    }\n",
       "</style>\n",
       "<table border=\"1\" class=\"dataframe\">\n",
       "  <thead>\n",
       "    <tr style=\"text-align: right;\">\n",
       "      <th></th>\n",
       "      <th>H2O_fluid1</th>\n",
       "      <th>CO2_fluid1</th>\n",
       "      <th>X_H2O_mol_fluid1</th>\n",
       "      <th>X_CO2_mol_fluid1</th>\n",
       "    </tr>\n",
       "  </thead>\n",
       "  <tbody>\n",
       "    <tr>\n",
       "      <th>0</th>\n",
       "      <td>NaN</td>\n",
       "      <td>NaN</td>\n",
       "      <td>NaN</td>\n",
       "      <td>NaN</td>\n",
       "    </tr>\n",
       "    <tr>\n",
       "      <th>1</th>\n",
       "      <td>2.530550</td>\n",
       "      <td>97.469450</td>\n",
       "      <td>0.059677</td>\n",
       "      <td>0.940323</td>\n",
       "    </tr>\n",
       "    <tr>\n",
       "      <th>2</th>\n",
       "      <td>2.576019</td>\n",
       "      <td>97.423981</td>\n",
       "      <td>0.060710</td>\n",
       "      <td>0.939290</td>\n",
       "    </tr>\n",
       "    <tr>\n",
       "      <th>3</th>\n",
       "      <td>2.623183</td>\n",
       "      <td>97.376817</td>\n",
       "      <td>0.061781</td>\n",
       "      <td>0.938219</td>\n",
       "    </tr>\n",
       "    <tr>\n",
       "      <th>4</th>\n",
       "      <td>2.672145</td>\n",
       "      <td>97.327855</td>\n",
       "      <td>0.062892</td>\n",
       "      <td>0.937108</td>\n",
       "    </tr>\n",
       "  </tbody>\n",
       "</table>\n",
       "</div>"
      ],
      "text/plain": [
       "   H2O_fluid1  CO2_fluid1  X_H2O_mol_fluid1  X_CO2_mol_fluid1\n",
       "0         NaN         NaN               NaN               NaN\n",
       "1    2.530550   97.469450          0.059677          0.940323\n",
       "2    2.576019   97.423981          0.060710          0.939290\n",
       "3    2.623183   97.376817          0.061781          0.938219\n",
       "4    2.672145   97.327855          0.062892          0.937108"
      ]
     },
     "execution_count": 13,
     "metadata": {},
     "output_type": "execute_result"
    }
   ],
   "source": [
    "Kil_decompress['fluid1'].head()"
   ]
  },
  {
   "cell_type": "markdown",
   "metadata": {},
   "source": [
    "Let's plot up how fluid composition and volume fraction change with pressure. In the 2-by-1 plot below plot the molar proportions of H2O and CO2 on one plot and the fluid volume fraction on the other plot. In PetThermoTools all variables can be accessed from a single DataFrame called 'All'. So, to access a particular variable you need to type **Kil_decompress['All'][variable]**. Run the two cells below to examine the output stucture and the different variables that are available. **Volume of the system and of each component is reported in cubic centimeters and is indicated by the lower case 'v'**."
   ]
  },
  {
   "cell_type": "code",
   "execution_count": 14,
   "metadata": {},
   "outputs": [
    {
     "data": {
      "text/html": [
       "<div>\n",
       "<style scoped>\n",
       "    .dataframe tbody tr th:only-of-type {\n",
       "        vertical-align: middle;\n",
       "    }\n",
       "\n",
       "    .dataframe tbody tr th {\n",
       "        vertical-align: top;\n",
       "    }\n",
       "\n",
       "    .dataframe thead th {\n",
       "        text-align: right;\n",
       "    }\n",
       "</style>\n",
       "<table border=\"1\" class=\"dataframe\">\n",
       "  <thead>\n",
       "    <tr style=\"text-align: right;\">\n",
       "      <th></th>\n",
       "      <th>T_C</th>\n",
       "      <th>P_bar</th>\n",
       "      <th>h</th>\n",
       "      <th>s</th>\n",
       "      <th>v</th>\n",
       "      <th>mass</th>\n",
       "      <th>dvdp</th>\n",
       "      <th>logfO2</th>\n",
       "      <th>SiO2_Liq</th>\n",
       "      <th>TiO2_Liq</th>\n",
       "      <th>...</th>\n",
       "      <th>v_Liq</th>\n",
       "      <th>rho_Liq</th>\n",
       "      <th>H2O_fluid1</th>\n",
       "      <th>CO2_fluid1</th>\n",
       "      <th>X_H2O_mol_fluid1</th>\n",
       "      <th>X_CO2_mol_fluid1</th>\n",
       "      <th>h_fluid1</th>\n",
       "      <th>mass_fluid1</th>\n",
       "      <th>v_fluid1</th>\n",
       "      <th>rho_fluid1</th>\n",
       "    </tr>\n",
       "  </thead>\n",
       "  <tbody>\n",
       "    <tr>\n",
       "      <th>0</th>\n",
       "      <td>1324.7</td>\n",
       "      <td>1050.0</td>\n",
       "      <td>-1.184106e+06</td>\n",
       "      <td>284.863502</td>\n",
       "      <td>37.225989</td>\n",
       "      <td>100.174572</td>\n",
       "      <td>-0.000196</td>\n",
       "      <td>-6.934527</td>\n",
       "      <td>49.072562</td>\n",
       "      <td>2.014525</td>\n",
       "      <td>...</td>\n",
       "      <td>37.225989</td>\n",
       "      <td>2.690985</td>\n",
       "      <td>NaN</td>\n",
       "      <td>NaN</td>\n",
       "      <td>NaN</td>\n",
       "      <td>NaN</td>\n",
       "      <td>0.000000</td>\n",
       "      <td>0.000000</td>\n",
       "      <td>0.000000</td>\n",
       "      <td>0.000000</td>\n",
       "    </tr>\n",
       "    <tr>\n",
       "      <th>1</th>\n",
       "      <td>1324.7</td>\n",
       "      <td>1030.0</td>\n",
       "      <td>-1.184172e+06</td>\n",
       "      <td>284.869444</td>\n",
       "      <td>37.233033</td>\n",
       "      <td>100.174607</td>\n",
       "      <td>-0.000194</td>\n",
       "      <td>-6.935904</td>\n",
       "      <td>49.073062</td>\n",
       "      <td>2.014546</td>\n",
       "      <td>...</td>\n",
       "      <td>37.229080</td>\n",
       "      <td>2.690734</td>\n",
       "      <td>2.530550</td>\n",
       "      <td>97.469450</td>\n",
       "      <td>0.059677</td>\n",
       "      <td>0.940323</td>\n",
       "      <td>-7.850728</td>\n",
       "      <td>0.001055</td>\n",
       "      <td>0.003952</td>\n",
       "      <td>0.266927</td>\n",
       "    </tr>\n",
       "    <tr>\n",
       "      <th>2</th>\n",
       "      <td>1324.7</td>\n",
       "      <td>1010.0</td>\n",
       "      <td>-1.184237e+06</td>\n",
       "      <td>284.875369</td>\n",
       "      <td>37.242423</td>\n",
       "      <td>100.174643</td>\n",
       "      <td>-0.000191</td>\n",
       "      <td>-6.937280</td>\n",
       "      <td>49.073925</td>\n",
       "      <td>2.014581</td>\n",
       "      <td>...</td>\n",
       "      <td>37.231565</td>\n",
       "      <td>2.690507</td>\n",
       "      <td>2.576019</td>\n",
       "      <td>97.423981</td>\n",
       "      <td>0.060710</td>\n",
       "      <td>0.939290</td>\n",
       "      <td>-21.230965</td>\n",
       "      <td>0.002852</td>\n",
       "      <td>0.010858</td>\n",
       "      <td>0.262671</td>\n",
       "    </tr>\n",
       "    <tr>\n",
       "      <th>3</th>\n",
       "      <td>1324.7</td>\n",
       "      <td>990.0</td>\n",
       "      <td>-1.184303e+06</td>\n",
       "      <td>284.881300</td>\n",
       "      <td>37.252051</td>\n",
       "      <td>100.174678</td>\n",
       "      <td>-0.000187</td>\n",
       "      <td>-6.938657</td>\n",
       "      <td>49.074789</td>\n",
       "      <td>2.014617</td>\n",
       "      <td>...</td>\n",
       "      <td>37.234047</td>\n",
       "      <td>2.690280</td>\n",
       "      <td>2.623183</td>\n",
       "      <td>97.376817</td>\n",
       "      <td>0.061781</td>\n",
       "      <td>0.938219</td>\n",
       "      <td>-34.638711</td>\n",
       "      <td>0.004652</td>\n",
       "      <td>0.018004</td>\n",
       "      <td>0.258379</td>\n",
       "    </tr>\n",
       "    <tr>\n",
       "      <th>4</th>\n",
       "      <td>1324.7</td>\n",
       "      <td>970.0</td>\n",
       "      <td>-1.184369e+06</td>\n",
       "      <td>284.887239</td>\n",
       "      <td>37.261931</td>\n",
       "      <td>100.174713</td>\n",
       "      <td>-0.000183</td>\n",
       "      <td>-6.940034</td>\n",
       "      <td>49.075655</td>\n",
       "      <td>2.014652</td>\n",
       "      <td>...</td>\n",
       "      <td>37.236526</td>\n",
       "      <td>2.690054</td>\n",
       "      <td>2.672145</td>\n",
       "      <td>97.327855</td>\n",
       "      <td>0.062892</td>\n",
       "      <td>0.937108</td>\n",
       "      <td>-48.075260</td>\n",
       "      <td>0.006454</td>\n",
       "      <td>0.025405</td>\n",
       "      <td>0.254051</td>\n",
       "    </tr>\n",
       "  </tbody>\n",
       "</table>\n",
       "<p>5 rows × 36 columns</p>\n",
       "</div>"
      ],
      "text/plain": [
       "      T_C   P_bar             h           s          v        mass      dvdp  \\\n",
       "0  1324.7  1050.0 -1.184106e+06  284.863502  37.225989  100.174572 -0.000196   \n",
       "1  1324.7  1030.0 -1.184172e+06  284.869444  37.233033  100.174607 -0.000194   \n",
       "2  1324.7  1010.0 -1.184237e+06  284.875369  37.242423  100.174643 -0.000191   \n",
       "3  1324.7   990.0 -1.184303e+06  284.881300  37.252051  100.174678 -0.000187   \n",
       "4  1324.7   970.0 -1.184369e+06  284.887239  37.261931  100.174713 -0.000183   \n",
       "\n",
       "     logfO2   SiO2_Liq  TiO2_Liq  ...      v_Liq   rho_Liq  H2O_fluid1  \\\n",
       "0 -6.934527  49.072562  2.014525  ...  37.225989  2.690985         NaN   \n",
       "1 -6.935904  49.073062  2.014546  ...  37.229080  2.690734    2.530550   \n",
       "2 -6.937280  49.073925  2.014581  ...  37.231565  2.690507    2.576019   \n",
       "3 -6.938657  49.074789  2.014617  ...  37.234047  2.690280    2.623183   \n",
       "4 -6.940034  49.075655  2.014652  ...  37.236526  2.690054    2.672145   \n",
       "\n",
       "   CO2_fluid1  X_H2O_mol_fluid1  X_CO2_mol_fluid1   h_fluid1  mass_fluid1  \\\n",
       "0         NaN               NaN               NaN   0.000000     0.000000   \n",
       "1   97.469450          0.059677          0.940323  -7.850728     0.001055   \n",
       "2   97.423981          0.060710          0.939290 -21.230965     0.002852   \n",
       "3   97.376817          0.061781          0.938219 -34.638711     0.004652   \n",
       "4   97.327855          0.062892          0.937108 -48.075260     0.006454   \n",
       "\n",
       "   v_fluid1  rho_fluid1  \n",
       "0  0.000000    0.000000  \n",
       "1  0.003952    0.266927  \n",
       "2  0.010858    0.262671  \n",
       "3  0.018004    0.258379  \n",
       "4  0.025405    0.254051  \n",
       "\n",
       "[5 rows x 36 columns]"
      ]
     },
     "execution_count": 14,
     "metadata": {},
     "output_type": "execute_result"
    }
   ],
   "source": [
    "Kil_decompress['All'].head()"
   ]
  },
  {
   "cell_type": "code",
   "execution_count": 16,
   "metadata": {},
   "outputs": [
    {
     "data": {
      "text/plain": [
       "Index(['T_C', 'P_bar', 'h', 's', 'v', 'mass', 'dvdp', 'logfO2', 'SiO2_Liq',\n",
       "       'TiO2_Liq', 'Al2O3_Liq', 'Cr2O3_Liq', 'Fe2O3_Liq', 'FeO_Liq',\n",
       "       'FeOt_Liq', 'MnO_Liq', 'MgO_Liq', 'CaO_Liq', 'Na2O_Liq', 'K2O_Liq',\n",
       "       'P2O5_Liq', 'H2O_Liq', 'CO2_Liq', 'Fe3Fet_Liq', 'h_Liq', 'mass_Liq',\n",
       "       'v_Liq', 'rho_Liq', 'H2O_fluid1', 'CO2_fluid1', 'X_H2O_mol_fluid1',\n",
       "       'X_CO2_mol_fluid1', 'h_fluid1', 'mass_fluid1', 'v_fluid1',\n",
       "       'rho_fluid1'],\n",
       "      dtype='object')"
      ]
     },
     "execution_count": 16,
     "metadata": {},
     "output_type": "execute_result"
    }
   ],
   "source": [
    "Kil_decompress['All'].keys()"
   ]
  },
  {
   "cell_type": "code",
   "execution_count": 19,
   "metadata": {},
   "outputs": [
    {
     "data": {
      "text/plain": [
       "Text(0.5, 0, 'Fluid Volume Fraction')"
      ]
     },
     "execution_count": 19,
     "metadata": {},
     "output_type": "execute_result"
    },
    {
     "data": {
      "image/png": "[encoded data removed]",
      "text/plain": [
       "<Figure size 1000x400 with 2 Axes>"
      ]
     },
     "metadata": {},
     "output_type": "display_data"
    }
   ],
   "source": [
    "############## Use this cell block to plot the fluid composition and volume fraction ###############\n",
    "\n",
    "f, a = plt.subplots(1,2, figsize = (10, 4), sharey=True)\n",
    "# a[0].plot()\n",
    "\n",
    "a[0].set_ylim([1200,0])\n",
    "a[0].legend()\n",
    "a[0].set_xlabel('Fluid Composition \\n Mole Fraction')\n",
    "a[0].set_ylabel('Pressure (bars)')\n",
    "\n",
    "# a[1].plot()\n",
    "\n",
    "a[1].set_ylim([1200,0])\n",
    "a[1].set_xlabel('Fluid Volume Fraction')"
   ]
  },
  {
   "cell_type": "markdown",
   "metadata": {},
   "source": [
    "In the graphs you've produced, what is the approximate composition of the fluid at: \n",
    "\n",
    "(i) 1000 bars; \n",
    "\n",
    "(ii) 100 bars? \n",
    "\n",
    "How would you describe the shape of the Fluid Volume Fraction curve and what does this indicate about the relative contribution of H2O and CO2 to the volume of the exsolved fluid?"
   ]
  },
  {
   "cell_type": "markdown",
   "metadata": {},
   "source": []
  },
  {
   "cell_type": "markdown",
   "metadata": {},
   "source": []
  },
  {
   "cell_type": "markdown",
   "metadata": {},
   "source": [
    "# Part 2 - Magma Decompression at Mt St Helens & comparisons between OIBs and Arc magmas."
   ]
  },
  {
   "cell_type": "markdown",
   "metadata": {},
   "source": [
    "Let's turn our attention to the data from Mt St Helens. These pumice samples, from which the melt inclusion and groundmass data were collected, are all linked to the Plinian eruption of May 18th 1980. One of the obvious things that separates these dacites to the basalts of Hawai'i (other than their SiO2 contents) is their H2O abundance. Below we've provided some code that isolates a relatively 'primitive' plagioclase-hosted melt inclusion from the Blundy and Cashman (2005) dataset that we'll use as the starting composition for the following models."
   ]
  },
  {
   "cell_type": "code",
   "execution_count": 17,
   "metadata": {},
   "outputs": [
    {
     "data": {
      "text/plain": [
       "sample    006-IOAO\n",
       "Type            PI\n",
       "SiO2         64.91\n",
       "TiO2          0.41\n",
       "Al2O3        13.31\n",
       "FeOt          2.78\n",
       "MnO           0.02\n",
       "MgO           0.71\n",
       "CaO           1.95\n",
       "Na2O          5.49\n",
       "K2O           1.99\n",
       "H2O           6.38\n",
       "Total        98.27\n",
       "Name: 23, dtype: object"
      ]
     },
     "execution_count": 17,
     "metadata": {},
     "output_type": "execute_result"
    }
   ],
   "source": [
    "# select a representative composition of the Mt St Helens white pumice. Here we've chosen a more mafic (~65 wt% SiO2) water rich inclusion.\n",
    "WhitePumice = StHelens.loc[23]\n",
    "WhitePumice"
   ]
  },
  {
   "cell_type": "markdown",
   "metadata": {},
   "source": [
    "Using the same function that we used in the Kilauea example above we can now run decompression calculations for the Mt St Helens magma. Other than the 'bulk' variable (i.e., the composition of our system), what other parameters do you think we might want to change? \n",
    "\n",
    "**i.e., other than their major element chemistry (including H2O) what separates arc lavas from those found in ocean island or mid-ocean ridge settings.**"
   ]
  },
  {
   "cell_type": "code",
   "execution_count": 16,
   "metadata": {},
   "outputs": [],
   "source": [
    "############## Fill in the blank kwargs (replace the ...) - what separates arc magmas from OIBs? ###############\n",
    "Helens_decompress = ptt.isothermal_decompression(Model=\"MELTSv1.2.0\", \n",
    "                                                bulk=...,\n",
    "                                                find_liquidus=True,\n",
    "                                                fO2_buffer=\"FMQ\", \n",
    "                                                fO2_offset=..., # offset (in log units) from the buffer)\n",
    "                                                P_start_bar=..., \n",
    "                                                P_end_bar=50, \n",
    "                                                dp_bar=20)"
   ]
  },
  {
   "cell_type": "markdown",
   "metadata": {},
   "source": [
    "Let's compare the results from Kilauea and Mt St Helens. **Plot up the Fluid Volume Fraction of the two models against each other. In addition, use Thermobar to calculate the viscosity of the magma during magma ascent towards the surface. An example of how to do this is shown for Kilauea.** Note, there is a module that allows you to calculate the viscosity of magmas (using the Giordano 2008 model) in alphaMELTS for Python, but using the Thermobar functions is also an incredibly easy way to calculate this parameter."
   ]
  },
  {
   "cell_type": "code",
   "execution_count": 19,
   "metadata": {},
   "outputs": [
    {
     "data": {
      "text/html": [
       "<div>\n",
       "<style scoped>\n",
       "    .dataframe tbody tr th:only-of-type {\n",
       "        vertical-align: middle;\n",
       "    }\n",
       "\n",
       "    .dataframe tbody tr th {\n",
       "        vertical-align: top;\n",
       "    }\n",
       "\n",
       "    .dataframe thead th {\n",
       "        text-align: right;\n",
       "    }\n",
       "</style>\n",
       "<table border=\"1\" class=\"dataframe\">\n",
       "  <thead>\n",
       "    <tr style=\"text-align: right;\">\n",
       "      <th></th>\n",
       "      <th>n_melt</th>\n",
       "      <th>logn_melt</th>\n",
       "      <th>T_K</th>\n",
       "      <th>A</th>\n",
       "      <th>B</th>\n",
       "      <th>C</th>\n",
       "      <th>T_C</th>\n",
       "      <th>P_bar</th>\n",
       "      <th>h</th>\n",
       "      <th>s</th>\n",
       "      <th>...</th>\n",
       "      <th>b13</th>\n",
       "      <th>c1</th>\n",
       "      <th>c2</th>\n",
       "      <th>c3</th>\n",
       "      <th>c4</th>\n",
       "      <th>c5</th>\n",
       "      <th>c6</th>\n",
       "      <th>c11</th>\n",
       "      <th>T_K</th>\n",
       "      <th>logn_melt</th>\n",
       "    </tr>\n",
       "  </thead>\n",
       "  <tbody>\n",
       "    <tr>\n",
       "      <th>0</th>\n",
       "      <td>2.282734</td>\n",
       "      <td>0.358455</td>\n",
       "      <td>1597.85</td>\n",
       "      <td>-4.55</td>\n",
       "      <td>5209.883193</td>\n",
       "      <td>536.440077</td>\n",
       "      <td>1324.7</td>\n",
       "      <td>1050.0</td>\n",
       "      <td>-1.184106e+06</td>\n",
       "      <td>284.863502</td>\n",
       "      <td>...</td>\n",
       "      <td>237.161782</td>\n",
       "      <td>133.433968</td>\n",
       "      <td>123.731168</td>\n",
       "      <td>246.853576</td>\n",
       "      <td>103.099360</td>\n",
       "      <td>-25.957984</td>\n",
       "      <td>-96.547837</td>\n",
       "      <td>51.827826</td>\n",
       "      <td>1597.85</td>\n",
       "      <td>0.358455</td>\n",
       "    </tr>\n",
       "    <tr>\n",
       "      <th>1</th>\n",
       "      <td>2.282771</td>\n",
       "      <td>0.358462</td>\n",
       "      <td>1597.85</td>\n",
       "      <td>-4.55</td>\n",
       "      <td>5209.879966</td>\n",
       "      <td>536.442233</td>\n",
       "      <td>1324.7</td>\n",
       "      <td>1030.0</td>\n",
       "      <td>-1.184172e+06</td>\n",
       "      <td>284.869444</td>\n",
       "      <td>...</td>\n",
       "      <td>237.162113</td>\n",
       "      <td>133.434061</td>\n",
       "      <td>123.731255</td>\n",
       "      <td>246.853761</td>\n",
       "      <td>103.099432</td>\n",
       "      <td>-25.958002</td>\n",
       "      <td>-96.545189</td>\n",
       "      <td>51.826915</td>\n",
       "      <td>1597.85</td>\n",
       "      <td>0.358462</td>\n",
       "    </tr>\n",
       "    <tr>\n",
       "      <th>2</th>\n",
       "      <td>2.282835</td>\n",
       "      <td>0.358474</td>\n",
       "      <td>1597.85</td>\n",
       "      <td>-4.55</td>\n",
       "      <td>5209.874373</td>\n",
       "      <td>536.446018</td>\n",
       "      <td>1324.7</td>\n",
       "      <td>1010.0</td>\n",
       "      <td>-1.184237e+06</td>\n",
       "      <td>284.875369</td>\n",
       "      <td>...</td>\n",
       "      <td>237.162700</td>\n",
       "      <td>133.434226</td>\n",
       "      <td>123.731408</td>\n",
       "      <td>246.854080</td>\n",
       "      <td>103.099560</td>\n",
       "      <td>-25.958034</td>\n",
       "      <td>-96.540534</td>\n",
       "      <td>51.825312</td>\n",
       "      <td>1597.85</td>\n",
       "      <td>0.358474</td>\n",
       "    </tr>\n",
       "    <tr>\n",
       "      <th>3</th>\n",
       "      <td>2.282902</td>\n",
       "      <td>0.358487</td>\n",
       "      <td>1597.85</td>\n",
       "      <td>-4.55</td>\n",
       "      <td>5209.868525</td>\n",
       "      <td>536.449979</td>\n",
       "      <td>1324.7</td>\n",
       "      <td>990.0</td>\n",
       "      <td>-1.184303e+06</td>\n",
       "      <td>284.881300</td>\n",
       "      <td>...</td>\n",
       "      <td>237.163314</td>\n",
       "      <td>133.434399</td>\n",
       "      <td>123.731568</td>\n",
       "      <td>246.854414</td>\n",
       "      <td>103.099693</td>\n",
       "      <td>-25.958068</td>\n",
       "      <td>-96.535662</td>\n",
       "      <td>51.823634</td>\n",
       "      <td>1597.85</td>\n",
       "      <td>0.358487</td>\n",
       "    </tr>\n",
       "    <tr>\n",
       "      <th>4</th>\n",
       "      <td>2.282973</td>\n",
       "      <td>0.358501</td>\n",
       "      <td>1597.85</td>\n",
       "      <td>-4.55</td>\n",
       "      <td>5209.862405</td>\n",
       "      <td>536.454127</td>\n",
       "      <td>1324.7</td>\n",
       "      <td>970.0</td>\n",
       "      <td>-1.184369e+06</td>\n",
       "      <td>284.887239</td>\n",
       "      <td>...</td>\n",
       "      <td>237.163958</td>\n",
       "      <td>133.434580</td>\n",
       "      <td>123.731736</td>\n",
       "      <td>246.854763</td>\n",
       "      <td>103.099833</td>\n",
       "      <td>-25.958103</td>\n",
       "      <td>-96.530560</td>\n",
       "      <td>51.821878</td>\n",
       "      <td>1597.85</td>\n",
       "      <td>0.358501</td>\n",
       "    </tr>\n",
       "  </tbody>\n",
       "</table>\n",
       "<p>5 rows × 61 columns</p>\n",
       "</div>"
      ],
      "text/plain": [
       "     n_melt  logn_melt      T_K     A            B           C     T_C  \\\n",
       "0  2.282734   0.358455  1597.85 -4.55  5209.883193  536.440077  1324.7   \n",
       "1  2.282771   0.358462  1597.85 -4.55  5209.879966  536.442233  1324.7   \n",
       "2  2.282835   0.358474  1597.85 -4.55  5209.874373  536.446018  1324.7   \n",
       "3  2.282902   0.358487  1597.85 -4.55  5209.868525  536.449979  1324.7   \n",
       "4  2.282973   0.358501  1597.85 -4.55  5209.862405  536.454127  1324.7   \n",
       "\n",
       "    P_bar             h           s  ...         b13          c1          c2  \\\n",
       "0  1050.0 -1.184106e+06  284.863502  ...  237.161782  133.433968  123.731168   \n",
       "1  1030.0 -1.184172e+06  284.869444  ...  237.162113  133.434061  123.731255   \n",
       "2  1010.0 -1.184237e+06  284.875369  ...  237.162700  133.434226  123.731408   \n",
       "3   990.0 -1.184303e+06  284.881300  ...  237.163314  133.434399  123.731568   \n",
       "4   970.0 -1.184369e+06  284.887239  ...  237.163958  133.434580  123.731736   \n",
       "\n",
       "           c3          c4         c5         c6        c11      T_K  logn_melt  \n",
       "0  246.853576  103.099360 -25.957984 -96.547837  51.827826  1597.85   0.358455  \n",
       "1  246.853761  103.099432 -25.958002 -96.545189  51.826915  1597.85   0.358462  \n",
       "2  246.854080  103.099560 -25.958034 -96.540534  51.825312  1597.85   0.358474  \n",
       "3  246.854414  103.099693 -25.958068 -96.535662  51.823634  1597.85   0.358487  \n",
       "4  246.854763  103.099833 -25.958103 -96.530560  51.821878  1597.85   0.358501  \n",
       "\n",
       "[5 rows x 61 columns]"
      ]
     },
     "execution_count": 19,
     "metadata": {},
     "output_type": "execute_result"
    }
   ],
   "source": [
    "Vis_Kilauea = pt.calculate_viscosity_giordano_2008(liq_comps=Kil_decompress['All'],\n",
    "                                                  T=Kil_decompress['All']['T_C'] + 273.15)\n",
    "Vis_Kilauea.head()"
   ]
  },
  {
   "cell_type": "code",
   "execution_count": 18,
   "metadata": {},
   "outputs": [],
   "source": [
    "############## Fill in the blank kwargs (replace the ...) - what separates arc magmas from OIBs? ###############\n",
    "Vis_Helens = "
   ]
  },
  {
   "cell_type": "code",
   "execution_count": 20,
   "metadata": {},
   "outputs": [
    {
     "data": {
      "text/plain": [
       "Text(0.5, 0, 'Fluid Volume Fraction')"
      ]
     },
     "execution_count": 20,
     "metadata": {},
     "output_type": "execute_result"
    },
    {
     "data": {
      "image/png": "[encoded data removed]",
      "text/plain": [
       "<Figure size 1000x400 with 2 Axes>"
      ]
     },
     "metadata": {},
     "output_type": "display_data"
    }
   ],
   "source": [
    "f, a = plt.subplots(1,2, figsize = (10, 4), sharey=True)\n",
    "# a[0].plot()\n",
    "\n",
    "a[0].set_ylim([3200,0])\n",
    "a[0].legend()\n",
    "a[0].set_xlabel('log$_{10}(\\eta)$ (Pa.s)')\n",
    "a[0].set_ylabel('Pressure (bars)')\n",
    "\n",
    "# a[1].plot()\n",
    "\n",
    "a[1].set_ylim([3200,0])\n",
    "a[1].set_xlabel('Fluid Volume Fraction')"
   ]
  },
  {
   "cell_type": "markdown",
   "metadata": {},
   "source": [
    "What is the major differences between to the two systems? How might this relate to changes in eruption styles?"
   ]
  },
  {
   "cell_type": "markdown",
   "metadata": {},
   "source": []
  },
  {
   "cell_type": "markdown",
   "metadata": {},
   "source": []
  },
  {
   "cell_type": "markdown",
   "metadata": {},
   "source": [
    "# Part 3 - Isothermal vs Isentropic decompression"
   ]
  },
  {
   "cell_type": "markdown",
   "metadata": {},
   "source": [
    "With many functions in PetThermoTools you can specify variables such as fO2, Fe-redox, H2O, and CO2 contents separately to the main 'bulk' composition that you provide. Furthermore, you can specify multiple values for these variables and PetThermoTools will run a calculation for each value specified. \n",
    "\n",
    "In this case, let's specify a range of different melt inclusion CO2 contents (this can easily be done using numpy) adding variable amounts of CO2 to the starting composition and run multiple degassing models simultaneously. Plot up the results below, how does increasing the initial magma CO2 content affect the degassing path? How does it influence other variables such as the magma temperature and/or crystal content?"
   ]
  },
  {
   "cell_type": "code",
   "execution_count": 24,
   "metadata": {},
   "outputs": [
    {
     "data": {
      "application/vnd.jupyter.widget-view+json": {
       "model_id": "9de5528a0f7b4d92ad67e633b24cb0b7",
       "version_major": 2,
       "version_minor": 0
      },
      "text/plain": [
       "  0%|          | 0/1 [00:00<?, ?it/s]"
      ]
     },
     "metadata": {},
     "output_type": "display_data"
    }
   ],
   "source": [
    "# Use the same function as above to run the degassing calculations\n",
    "Helens_decompress_CO2 = ptt.isothermal_decompression(Model=\"MELTSv1.2.0\", \n",
    "                                                bulk=WhitePumice,\n",
    "                                                find_liquidus=True, \n",
    "                                                fO2_buffer=\"FMQ\", \n",
    "                                                fO2_offset= ..., # Don't forget to set an fo2 buffer\n",
    "                                                P_start_bar=3500, \n",
    "                                                P_end_bar=50, \n",
    "                                                dp_bar=20,\n",
    "                                                label=\"CO2\",\n",
    "                                                CO2_Liq = np.array([0.005,0.01,0.02,0.04,0.1]))"
   ]
  },
  {
   "cell_type": "code",
   "execution_count": 25,
   "metadata": {},
   "outputs": [
    {
     "data": {
      "text/plain": [
       "Text(0.5, 0, 'Fluid Volume Fraction')"
      ]
     },
     "execution_count": 25,
     "metadata": {},
     "output_type": "execute_result"
    },
    {
     "data": {
      "image/png": "[encoded data removed]",
      "text/plain": [
       "<Figure size 1000x400 with 2 Axes>"
      ]
     },
     "metadata": {},
     "output_type": "display_data"
    }
   ],
   "source": [
    "# Define Viridis colormap\n",
    "cmap = plt.get_cmap('viridis_r')\n",
    "\n",
    "# Get n equally spaced values from the colormap\n",
    "colors = [cmap(i) for i in np.linspace(0, 0.8, len(Helens_decompress_CO2))]\n",
    "\n",
    "j = 0\n",
    "f, a = plt.subplots(1,2, figsize = (10, 4), sharey=True)\n",
    "for i in Helens_decompress_CO2:\n",
    "    a[0].plot(Helens_decompress_CO2[i]['All']['X_H2O_mol_fluid1'],\n",
    "        Helens_decompress_CO2[i]['All']['P_bar'], '-', color = colors[j]) \n",
    "    a[0].plot(Helens_decompress_CO2[i]['All']['X_CO2_mol_fluid1'],\n",
    "        Helens_decompress_CO2[i]['All']['P_bar'], ':', color = colors[j])\n",
    "\n",
    "    a[1].plot(Helens_decompress_CO2[i]['All']['v_fluid1']/Helens_decompress_CO2[i]['All']['v'],\n",
    "      Helens_decompress_CO2[i]['All']['P_bar'], '-', color = colors[j], label = i)\n",
    "\n",
    "    j = j+1\n",
    "\n",
    "a[0].set_ylim([3600,0])\n",
    "a[0].set_xlabel('Fluid Composition \\n Mole Fraction')\n",
    "a[0].set_ylabel('Pressure (bars)')\n",
    "\n",
    "a[1].set_ylim([3600,0])\n",
    "a[1].legend(fontsize = 6)\n",
    "a[1].set_xlabel('Fluid Volume Fraction')"
   ]
  },
  {
   "cell_type": "markdown",
   "metadata": {},
   "source": [
    "In addition to the fluid composition and fluid volume fraction there are a number of other variables that are interesting to consider during decompression calculations. First, we can think about how the temperature of the system changes. Obviously for an isothermal model this is quite straightforward, but is that realistic in nature? Second, we can consider not just the mass or volume of fluid formed, but also the mass of solid material crystallizing. What factors might drive crystallization in a degassing magma - what affect might this have on the rheological properties of the ascending melt?"
   ]
  },
  {
   "cell_type": "markdown",
   "metadata": {},
   "source": [
    "To start, let's consider the mass fractions and temperature of the models that we just run. **Here I'm just plotting an example of the 0.02 wt% CO2 model, see what the graphs look like for the other models:**"
   ]
  },
  {
   "cell_type": "code",
   "execution_count": 26,
   "metadata": {},
   "outputs": [],
   "source": [
    "# Access mass of system components & calculate liquid, solid and fluid mass fractions\n",
    "mass_total = Helens_decompress_CO2['CO2 = 0.02 wt%']['All']['mass']\n",
    "mass_frac_Liq = Helens_decompress_CO2['CO2 = 0.02 wt%']['All']['mass_Liq']/mass_total\n",
    "mass_frac_Fl = Helens_decompress_CO2['CO2 = 0.02 wt%']['All']['mass_fluid1']/mass_total\n",
    "mass_frac_Sol = 1 - mass_frac_Liq - mass_frac_Fl"
   ]
  },
  {
   "cell_type": "code",
   "execution_count": 28,
   "metadata": {},
   "outputs": [
    {
     "data": {
      "text/plain": [
       "Text(0.5, 0, 'Mass Fraction')"
      ]
     },
     "execution_count": 28,
     "metadata": {},
     "output_type": "execute_result"
    },
    {
     "data": {
      "image/png": "[encoded data removed]",
      "text/plain": [
       "<Figure size 1000x400 with 2 Axes>"
      ]
     },
     "metadata": {},
     "output_type": "display_data"
    }
   ],
   "source": [
    "# plot temperature vs pressure and liquid, fluid, and solid mass fraction vs depth\n",
    "f, a = plt.subplots(1,2, figsize = (10, 4), sharey=True)\n",
    "a[0].plot(Helens_decompress_CO2['CO2 = 0.02 wt%']['All']['T_C'], \n",
    "          Helens_decompress_CO2['CO2 = 0.02 wt%']['All']['P_bar'], '-k')\n",
    "\n",
    "a[0].set_ylim([3600,0])\n",
    "a[0].set_xlabel('Temperature ($^{o}$C)')\n",
    "a[0].set_ylabel('Pressure (bars)')\n",
    "          \n",
    "a[1].plot(mass_frac_Liq, Helens_decompress_CO2['CO2 = 0.02 wt%']['All']['P_bar'], '-k', label = 'Liquid')\n",
    "a[1].plot(mass_frac_Fl, Helens_decompress_CO2['CO2 = 0.02 wt%']['All']['P_bar'], '-r', label = 'Fluid')\n",
    "a[1].plot(mass_frac_Sol, Helens_decompress_CO2['CO2 = 0.02 wt%']['All']['P_bar'], '-b', label = 'Solid')\n",
    "\n",
    "a[1].set_ylim([3600,0])\n",
    "a[1].legend(fontsize = 6)\n",
    "a[1].set_xlabel('Mass Fraction')\n"
   ]
  },
  {
   "cell_type": "markdown",
   "metadata": {},
   "source": [
    "One of the things that we can easily do in PetThermoTools is apply an isentropic (constant entropy) rather than isothermal (constant temperature) constraint on our system. If magmas decompress (or ascend) adibatically - that is, without exchanging heat energy with their surroundings - could this represent a more realistic scenario?\n",
    "\n",
    "To run isentropic decompression models all that we need to do is replace the **ptt.isothermal_decompression()** function with **ptt.isentropic_decompression()**. All key-word arguments in the function remain the same!"
   ]
  },
  {
   "cell_type": "code",
   "execution_count": 29,
   "metadata": {},
   "outputs": [
    {
     "data": {
      "application/vnd.jupyter.widget-view+json": {
       "model_id": "c5f82d0885e748a4b23605502981b3c8",
       "version_major": 2,
       "version_minor": 0
      },
      "text/plain": [
       "  0%|          | 0/1 [00:00<?, ?it/s]"
      ]
     },
     "metadata": {},
     "output_type": "display_data"
    }
   ],
   "source": [
    "# Run isentropic decompression models\n",
    "Helens_decompress_CO2_isen = ptt.isentropic_decompression(Model=\"MELTSv1.2.0\", \n",
    "                                                bulk=WhitePumice,\n",
    "                                                find_liquidus=True, \n",
    "                                                fO2_buffer=\"FMQ\", \n",
    "                                                fO2_offset=1.5,\n",
    "                                                P_start_bar=3500, \n",
    "                                                P_end_bar=50, \n",
    "                                                dp_bar=20,\n",
    "                                                label=\"CO2\",\n",
    "                                                CO2_Liq = np.array([0.005,0.01,0.02,0.04,0.1]))\n"
   ]
  },
  {
   "cell_type": "markdown",
   "metadata": {},
   "source": [
    "**As we did for the isothermal models above, have a go at calculating the mass fractions of fluid, liquid, and solid at each step of the model. Plot up these results, and the temperature of the system, against the isothermal models. What is different? What causes the temperature variations during decompression?**"
   ]
  },
  {
   "cell_type": "code",
   "execution_count": 30,
   "metadata": {},
   "outputs": [],
   "source": [
    "############## Calculate mass of system components & calculate liquid, solid and fluid mass fractions ###############\n",
    "isen_mass_total = \n",
    "isen_mass_frac_Liq = \n",
    "isen_mass_frac_Fl = \n",
    "isen_mass_frac_Sol = 1 - isen_mass_frac_Liq - isen_mass_frac_Fl"
   ]
  },
  {
   "cell_type": "code",
   "execution_count": 21,
   "metadata": {},
   "outputs": [
    {
     "data": {
      "text/plain": [
       "Text(0.5, 0, 'Mass Fraction')"
      ]
     },
     "execution_count": 21,
     "metadata": {},
     "output_type": "execute_result"
    },
    {
     "data": {
      "image/png": "[encoded data removed]",
      "text/plain": [
       "<Figure size 1000x400 with 2 Axes>"
      ]
     },
     "metadata": {},
     "output_type": "display_data"
    }
   ],
   "source": [
    "############## plot temperature vs pressure and liquid, fluid, and solid mass fraction vs depth ###############\n",
    "f, a = plt.subplots(1,2, figsize = (10, 4), sharey=True)\n",
    "# a[0].plot()\n",
    "\n",
    "a[0].set_ylim([3600,0])\n",
    "a[0].legend(fontsize = 6)\n",
    "a[0].set_xlabel('Temperature ($^{o}$C)')\n",
    "a[0].set_ylabel('Pressure (bars)')\n",
    "          \n",
    "# a[1].plot()\n",
    "\n",
    "a[1].set_ylim([3600,0])\n",
    "a[1].legend(fontsize = 6)\n",
    "a[1].set_xlabel('Mass Fraction')\n"
   ]
  },
  {
   "cell_type": "markdown",
   "metadata": {},
   "source": [
    "# Extra material: change in chemistry and viscosity of ascending magmas"
   ]
  },
  {
   "cell_type": "markdown",
   "metadata": {},
   "source": [
    "In the previous calculations we've shown that decompression - if equilibrium is maintained - can cause ~40% crystallization of the magma (by mass). What is the influence of this crystallization on the magma chemistry and viscosity during ascent?\n",
    "\n",
    "Plot up the liquid chemistry predicted by the decompression models against the melt inclusions and groundmass glass data from the white pumice (use **StHelens.loc[StHelens['Type'] == \"GM\", 'SiO2']** to access the SiO2 content of the groundmass glass). Start with a TAS plot, but also try other combinations of elements/oxides."
   ]
  },
  {
   "cell_type": "code",
   "execution_count": 23,
   "metadata": {},
   "outputs": [
    {
     "data": {
      "text/plain": [
       "Text(0, 0.5, 'Na$_2$O + K$_2$O (wt%)')"
      ]
     },
     "execution_count": 23,
     "metadata": {},
     "output_type": "execute_result"
    },
    {
     "data": {
      "image/png": "[encoded data removed]",
      "text/plain": [
       "<Figure size 640x480 with 1 Axes>"
      ]
     },
     "metadata": {},
     "output_type": "display_data"
    }
   ],
   "source": [
    "f, a = plt.subplots(1,1)\n",
    "a.plot(Helens_decompress_CO2_isen['CO2 = 0.02 wt%']['All']['SiO2_Liq'],\n",
    "        Helens_decompress_CO2_isen['CO2 = 0.02 wt%']['All']['K2O_Liq'] + Helens_decompress_CO2_isen['CO2 = 0.02 wt%']['All']['Na2O_Liq'],\n",
    "        '-k', label = 'rhyolite-MELTS isentropic decompression')\n",
    "a.plot(StHelens['SiO2'], StHelens['Na2O'] + StHelens['K2O'], 'ok', mfc = 'r', label = '1980 Mt St Helens Melt Inclusions')\n",
    "a.plot(StHelens.loc[StHelens['Type'] == \"GM\", 'SiO2'], \n",
    "        StHelens.loc[StHelens['Type'] == \"GM\", 'Na2O'] + StHelens.loc[StHelens['Type'] == \"GM\", 'K2O'], 'ok', \n",
    "        mfc = 'y', label = '1980 Mt St Helens Groundmass')\n",
    "\n",
    "a.legend()\n",
    "a.set_xlabel('SiO$_2$ (wt%)')\n",
    "a.set_ylabel('Na$_2$O + K$_2$O (wt%)')"
   ]
  },
  {
   "cell_type": "markdown",
   "metadata": {},
   "source": [
    "One of the major benefits of PetThermoTools is that the results can be directly used in other Python packages. As an example we can use Thermobar to calculate the melt viscosity at each step of the model, with no data manipulation required."
   ]
  },
  {
   "cell_type": "code",
   "execution_count": 24,
   "metadata": {},
   "outputs": [
    {
     "name": "stderr",
     "output_type": "stream",
     "text": [
      "c:\\users\\penny\\box\\postdoc\\mybarometers\\thermobar_outer\\src\\Thermobar\\viscosity.py:77: FutureWarning: A value is trying to be set on a copy of a DataFrame or Series through chained assignment using an inplace method.\n",
      "The behavior will change in pandas 3.0. This inplace method will never work because the intermediate object on which we are setting values always behaves as a copy.\n",
      "\n",
      "For example, when doing 'df[col].method(value, inplace=True)', try using 'df.method({col: value}, inplace=True)' or df[col] = df[col].method(value) instead, to perform the operation inplace on the original object.\n",
      "\n",
      "\n",
      "  liq_comps_N_mol['F2O_Liq_mol_prop_hyd'].fillna(0, inplace=True)\n"
     ]
    }
   ],
   "source": [
    "import Thermobar as pt\n",
    "Vis = pt.calculate_viscosity_giordano_2008(liq_comps=Helens_decompress_CO2_isen['CO2 = 0.02 wt%']['All'],\n",
    "                                                  T=Helens_decompress_CO2_isen['CO2 = 0.02 wt%']['All']['T_C'] + 273.15)\n"
   ]
  },
  {
   "cell_type": "markdown",
   "metadata": {},
   "source": [
    "Plot up the viscosity and SiO2 content of the melt against depth. What implications might these results have for the dynamics of magma ascent?"
   ]
  },
  {
   "cell_type": "code",
   "execution_count": 25,
   "metadata": {},
   "outputs": [
    {
     "data": {
      "text/plain": [
       "Text(0, 0.5, 'Pressure (bars)')"
      ]
     },
     "execution_count": 25,
     "metadata": {},
     "output_type": "execute_result"
    },
    {
     "data": {
      "image/png": "[encoded data removed]",
      "text/plain": [
       "<Figure size 500x400 with 2 Axes>"
      ]
     },
     "metadata": {},
     "output_type": "display_data"
    }
   ],
   "source": [
    "f, a = plt.subplots(1,2, figsize = (5, 4), sharey=True)\n",
    "a[0].plot(Vis['logn_melt'], \n",
    "          Helens_decompress_CO2['CO2 = 0.02 wt%']['All']['P_bar'], '-k')\n",
    "\n",
    "a[0].set_ylim([3600,0])\n",
    "a[0].set_xlabel('log$_{10}(\\eta)$ (Pa.s)')\n",
    "a[0].set_ylabel('Pressure (bars)')\n",
    "\n",
    "a[1].plot(Helens_decompress_CO2['CO2 = 0.02 wt%']['All']['SiO2_Liq'], \n",
    "          Helens_decompress_CO2['CO2 = 0.02 wt%']['All']['P_bar'], '-k')\n",
    "\n",
    "a[1].set_ylim([3600,0])\n",
    "a[1].set_xlabel('SiO$_2$ (wt%)')\n",
    "a[1].set_ylabel('Pressure (bars)')"
   ]
  }
 ],
 "metadata": {
  "kernelspec": {
   "display_name": "base",
   "language": "python",
   "name": "python3"
  },
  "language_info": {
   "codemirror_mode": {
    "name": "ipython",
    "version": 3
   },
   "file_extension": ".py",
   "mimetype": "text/x-python",
   "name": "python",
   "nbconvert_exporter": "python",
   "pygments_lexer": "ipython3",
   "version": "3.11.0"
  },
  "orig_nbformat": 4
 },
 "nbformat": 4,
 "nbformat_minor": 2
}
