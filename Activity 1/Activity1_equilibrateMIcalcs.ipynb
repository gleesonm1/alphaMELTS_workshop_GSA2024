{
 "cells": [
  {
   "cell_type": "markdown",
   "metadata": {},
   "source": [
    "**At the start of each notebook there will be 3 - 5 cells of code that need to be run before the rest of the notebook. These cells make sure we have imported all the required Python packages so that we can run the rest of the code without issue!**"
   ]
  },
  {
   "cell_type": "code",
   "execution_count": null,
   "metadata": {},
   "outputs": [],
   "source": [
    "# import core python packages that we'll use for plotting and data manipulation.\n",
    "import sys\n",
    "import os\n",
    "import numpy as np\n",
    "import pandas as pd\n",
    "pd.set_option('display.max_columns', None)\n",
    "import matplotlib.pyplot as plt\n",
    "import seaborn as sns"
   ]
  },
  {
   "cell_type": "code",
   "execution_count": null,
   "metadata": {},
   "outputs": [],
   "source": [
    "# Tell us a little bit about your system\n",
    "Victor = False ###### <------ Turn to True if using Victor\n",
    "if Victor is False:\n",
    "    Windows = False ###### <----- Turn to True if using Windows"
   ]
  },
  {
   "cell_type": "code",
   "execution_count": 2,
   "metadata": {},
   "outputs": [],
   "source": [
    "if Victor is True:\n",
    "    sys.path.append(r\"/home/jovyan/shared/Models/alphaMELTS/\")"
   ]
  },
  {
   "cell_type": "code",
   "execution_count": 4,
   "metadata": {},
   "outputs": [
    {
     "name": "stdout",
     "output_type": "stream",
     "text": [
      "0.2.13dev\n",
      "1.0.43\n"
     ]
    }
   ],
   "source": [
    "# let's load the MELTS packages. The third line isn't strictly necessary but helps us check the alphaMELTS files are all 'discoverable'\n",
    "import PetThermoTools as ptt \n",
    "import Thermobar as pt\n",
    "from meltsdynamic import MELTSdynamic\n",
    "\n",
    "print(ptt.__version__)\n",
    "print(pt.__version__)"
   ]
  },
  {
   "cell_type": "code",
   "execution_count": 6,
   "metadata": {},
   "outputs": [],
   "source": [
    "## If using Mac run this cell **twice** \n",
    "if Windows is False:\n",
    "    sys.stdout = open(os.devnull, 'w')\n",
    "    sys.stderr = open(os.devnull, 'w')"
   ]
  },
  {
   "cell_type": "markdown",
   "metadata": {},
   "source": [
    "# Part 1 - Using Melt Inclusion datasets to practice data handling in Python"
   ]
  },
  {
   "cell_type": "markdown",
   "metadata": {},
   "source": [
    "In the first part of this workshop we'll run some simple calculations with PetThermoTools and use the inputs/outputs to go over some basic data handling techniques/methods in Python to make sure everyone is comfortable with the basics of Pandas and matplotlib.\n",
    "\n",
    "As the theme of GSA Connects 2024 is 'Life along an Active Margin' let's start with some magmas associated with active margin volcanism! In the cell below I've provided some code that loads in melt inclusion data from various arc volcanoes around the world (data taken from the supplement of Rasmussen et al. 2022).\n",
    "\n",
    "The first line uses Pandas () to read the excel file. Pandas is incredibly useful for handling geochemical data as it reads in the data in a format similar to that of an excel spreadsheet. Secondly I fill all missing data in this spreadsheet with zeros (**fillna(0.0)**). This isn't strictly necessary but it does help to ensure the code runs smoothly without errors. Finally, by calling the name of the new DataFrame followed by **.head()** we can print the first 5 rows of the DataFrame, useful for checking that the data was imported as we expected! "
   ]
  },
  {
   "cell_type": "code",
   "execution_count": 45,
   "metadata": {},
   "outputs": [],
   "source": [
    "# load in the excel sheet with the melt inclusion data\n",
    "MI_All = pd.read_excel('MI_Arcs.xlsx', sheet_name='Data')\n",
    "MI_All = MI_All.fillna(0.0)\n",
    "MI_All.head()"
   ]
  },
  {
   "cell_type": "markdown",
   "metadata": {},
   "source": [
    "Let's now have a look at what volcanoes we have in the dataset. Typing the name of the DataFrame, then the column header (in this case 'Volcano') followed by **.unique()** will provide us with a list of all unique values within that column."
   ]
  },
  {
   "cell_type": "code",
   "execution_count": 44,
   "metadata": {},
   "outputs": [],
   "source": [
    "############## Type MI_All['Volcano'].unique() below to identify what volcanoes are in the dataset ######################\n"
   ]
  },
  {
   "cell_type": "markdown",
   "metadata": {},
   "source": [
    "We can also start to think about what data we do, or don't, want for our calculations. In this notebook we'll use the H2O (and CO2 when present) contents of the melt inclusions to assess the apparent entrapment depths (issues relating to water loss by diffusion and/or missed CO2 in the glass phase or a vapor bubble might affect these calculations). For these calculations we are only really interested in melt inclusions where H2O and CO2 have been measured. Let's 'filter' our DataFrame to only include rows with H2O and CO2 contents greater than 0.0.\n",
    "\n",
    "Running the second line (**.reset_index()**) helps to ensure that the row (or index) numbers run continuously without jumps/gaps (i.e., from 0 to n)."
   ]
  },
  {
   "cell_type": "code",
   "execution_count": 9,
   "metadata": {},
   "outputs": [],
   "source": [
    "MI_All = MI_All.loc[(MI_All['H2O_Liq'] > 0.0) & (MI_All['CO2_Liq'] > 0.0),:].copy()\n",
    "MI_All = MI_All.reset_index(drop = True)"
   ]
  },
  {
   "cell_type": "markdown",
   "metadata": {},
   "source": [
    "**Now have a go at isolating data from three different volcanoes of the Aleutian Arc: Augustine, Okmok, and Shishaldin. You should end up with three separate DataFrames - I have done the first calculation for you!**\n",
    "\n",
    "Hint MI_All['Volcano'].unique() will tell you the volcano names."
   ]
  },
  {
   "cell_type": "code",
   "execution_count": 46,
   "metadata": {},
   "outputs": [],
   "source": [
    "# Let's isolate three separate dataframes for three volcanoes in the Aleutian Arc, Augustine, Okmok, and Shishaldin\n",
    "Augustine = MI_All.loc[MI_All['Volcano'] == 'Augustine'].copy()\n",
    "Augustine = Augustine.reset_index(drop = True)\n",
    "Augustine.head()"
   ]
  },
  {
   "cell_type": "code",
   "execution_count": null,
   "metadata": {},
   "outputs": [],
   "source": []
  },
  {
   "cell_type": "code",
   "execution_count": null,
   "metadata": {},
   "outputs": [],
   "source": []
  },
  {
   "cell_type": "markdown",
   "metadata": {},
   "source": [
    "We can also combine DataFrames using the **pd.concat()** function. Here we can take the three DataFrames we just created for the different volcanoes and concat them into a single DataFrame called 'Aleutians'."
   ]
  },
  {
   "cell_type": "code",
   "execution_count": 11,
   "metadata": {},
   "outputs": [],
   "source": [
    "Aleutians = pd.concat([Augustine, Okmok, Shishaldin]) # make sure you use the correct variable names\n",
    "Aleutians = Aleutians.reset_index(drop = True)"
   ]
  },
  {
   "cell_type": "markdown",
   "metadata": {},
   "source": [
    "Let's now plot up some of this data. We can use the package matplotlib for most of our plotting and one useful application of matplotlib is to make subplots. Here you can define multiple graphs stored in a single parameter (called **a** below). If you want to plot data on the first graph you can start a line of code with a[0].plot(). Similarly to plot on the second graph start with a[1].plot()."
   ]
  },
  {
   "cell_type": "code",
   "execution_count": 47,
   "metadata": {},
   "outputs": [],
   "source": [
    "# Change variable names if you didn't call your DataFrames 'Shishaldin' and 'Okmok'\n",
    "f, a = plt.subplots(1,2, figsize = (6.5, 3))\n",
    "a[0].plot(Shishaldin['MgO_Liq'], Shishaldin['FeOt_Liq'], 'ok', mfc = 'y', label = \"Shishaldin\")\n",
    "a[0].plot(Okmok['MgO_Liq'], Okmok['FeOt_Liq'], 'ok', mfc = 'b', label = \"Okmok\")\n",
    "a[0].plot(Augustine['MgO_Liq'], Augustine['FeOt_Liq'], 'ok', mfc = 'r', label = \"Augustine\")\n",
    "\n",
    "a[0].set_xlabel('MgO (wt%)')\n",
    "a[0].set_ylabel('FeO$_t$ (wt%)')\n",
    "a[0].legend(fontsize = 6)\n",
    "\n",
    "############## Plot MgO vs an oxide of your choice for the melt inclusions data from the three volcanoes ###########\n",
    "a[1].plot(Shishaldin['MgO_Liq'], Shishaldin['K2O_Liq'], 'ok', mfc = 'y', label = \"Shishaldin\")\n",
    "a[1].plot(Okmok['MgO_Liq'], Okmok['K2O_Liq'], 'ok', mfc = 'b', label = \"Okmok\")\n",
    "a[1].plot(Augustine['MgO_Liq'], Augustine['K2O_Liq'], 'ok', mfc = 'r', label = \"Augustine\")\n",
    "\n",
    "a[1].set_xlabel('MgO (wt%)')\n",
    "a[1].set_ylabel('K$_2$O (wt%)')\n",
    "# a[1].legend(fontsize = 6)\n",
    "\n",
    "f.tight_layout()"
   ]
  },
  {
   "cell_type": "markdown",
   "metadata": {},
   "source": [
    "Another useful plot for visualizing data is Violin plots. Using the seaborn package (imported earlier) we can easily create violin plots from any DataFrame. All we need to do is tell the code which column we'd like to use to separate or segment the data (here we segment the data by the different volcano names) and what variable we want to plot on the y-axis. In this case we can visualize the H2O measured in melt inclusions form each volcano:"
   ]
  },
  {
   "cell_type": "code",
   "execution_count": 48,
   "metadata": {},
   "outputs": [],
   "source": [
    "# Create a figure and construct violin plots for the Aleutian data.\n",
    "plt.figure(figsize=(10, 6))\n",
    "sns.violinplot(x='Volcano', y='H2O_Liq', data=Aleutians, cut=0, inner = \"point\")\n",
    "\n",
    "plt.xlabel('Location')\n",
    "plt.ylabel('H$_2$O (wt%)')"
   ]
  },
  {
   "cell_type": "markdown",
   "metadata": {},
   "source": [
    "## Part 2 - Temperature and pressure of entrapment."
   ]
  },
  {
   "cell_type": "markdown",
   "metadata": {},
   "source": [
    "Hopefully that's given everyone a (very) quick introduction to data handling and plotting in Python! Now let's do some thermodynamics!\n",
    "\n",
    "In this example notebook we'll use PetThermoTools to assess the storage pressure of these inclusions based on the measured H2O (and CO2) content while simultaneously solving for the liquidus temperature. The following function will iterate both pressure and temperature to simultaneously solve for both parameters. "
   ]
  },
  {
   "cell_type": "code",
   "execution_count": 23,
   "metadata": {},
   "outputs": [
    {
     "data": {
      "application/vnd.jupyter.widget-view+json": {
       "model_id": "44c4b852a26b402b869e77d84e171941",
       "version_major": 2,
       "version_minor": 0
      },
      "text/plain": [
       "  0%|          | 0/16 [00:00<?, ?it/s]"
      ]
     },
     "metadata": {},
     "output_type": "display_data"
    }
   ],
   "source": [
    "# Assess volatile saturation pressure and liquidus temperature of the melt inclusions.\n",
    "Sat_P = ptt.findSatPressure(Model = \"MELTSv1.2.0\",\n",
    "                          bulk = Aleutians,\n",
    "                          T_C_init = 1200,\n",
    "                          P_bar_init=1000,\n",
    "                          fO2_buffer=\"FMQ\",\n",
    "                          fO2_offset=2,\n",
    "                          copy_columns=['Sample','Volcano'])"
   ]
  },
  {
   "cell_type": "markdown",
   "metadata": {},
   "source": [
    "As we did above we can use the **.head()** command to inspect the results. Note that the 'merge_on' kwarg means that the Sample and Volcano name will be copied across to the new DataFrame."
   ]
  },
  {
   "cell_type": "code",
   "execution_count": 49,
   "metadata": {},
   "outputs": [],
   "source": [
    "Sat_P.head()"
   ]
  },
  {
   "cell_type": "markdown",
   "metadata": {},
   "source": [
    "Try making two new Violin plots showing the estimates pressure and temperature obtained from the results above. \n",
    "\n",
    "**HINT - copy the code above used to make a violin plot of H2O contents and simply change the variables.**"
   ]
  },
  {
   "cell_type": "code",
   "execution_count": 50,
   "metadata": {},
   "outputs": [],
   "source": [
    "################ Create a violin plot showing the estimated pressures. ##################"
   ]
  },
  {
   "cell_type": "code",
   "execution_count": 51,
   "metadata": {},
   "outputs": [],
   "source": [
    "################ Create a violin plot showing the estimated temperatures. ##################"
   ]
  },
  {
   "cell_type": "markdown",
   "metadata": {},
   "source": [
    "- What are the differences in pressure & temperature of storage for these different volcanoes?\n",
    "- What uncertainties or errors might influence these estimates?\n",
    "\n",
    "The difference in estimated storage pressure between arc volcanoes located above thicker crust (Augustine) and thinner crust (Okmok) led to the hypothesis that magma H2O contents control magma storage pressures (Rasmussen et al. 2022; https://doi.org/10.1126/science.abm5174)."
   ]
  },
  {
   "cell_type": "markdown",
   "metadata": {},
   "source": []
  },
  {
   "cell_type": "markdown",
   "metadata": {},
   "source": []
  },
  {
   "cell_type": "markdown",
   "metadata": {},
   "source": [
    "# Part 3 - Simple equilibrate calculations at a given pressure and temperature."
   ]
  },
  {
   "cell_type": "markdown",
   "metadata": {},
   "source": [
    "Another useful calculation that we can do with PetThermoTools is assess the equilibrium state of the system for any given composition and set of conditions (i.e., P, T, fO2). As an example, let's use the pressures and temperatures determined above to predict the phase stability near the liquidus for the different melt compositions."
   ]
  },
  {
   "cell_type": "code",
   "execution_count": 29,
   "metadata": {},
   "outputs": [
    {
     "data": {
      "application/vnd.jupyter.widget-view+json": {
       "model_id": "3c6f3279a51546c699c851bc2ee84cf4",
       "version_major": 2,
       "version_minor": 0
      },
      "text/plain": [
       "  0%|          | 0/16 [00:00<?, ?it/s]"
      ]
     },
     "metadata": {},
     "output_type": "display_data"
    }
   ],
   "source": [
    "############## Enter the temperature and pressure at which to perform the equilibrate calculations ################\n",
    "############## The T_C and P_bar kwargs can either take a single value or an array of values the ################\n",
    "############## same length as the number of compositions in the input DataFrame (Aleutians) ###############\n",
    "Equil = ptt.equilibrate_multi(Model = \"MELTSv1.2.0\",\n",
    "                              bulk = Aleutians,\n",
    "                              T_C = , # enter temperature inputs\n",
    "                              P_bar = , # enter pressure inputs\n",
    "                              fO2_buffer = \"FMQ\",\n",
    "                              fO2_offset = 2,\n",
    "                              copy_columns = ['Sample', 'Volcano'])"
   ]
  },
  {
   "cell_type": "markdown",
   "metadata": {},
   "source": [
    "We can now assess what phases were stablized in the PetThermoTools calcuations by examining all rows in the output DataFrame that contain the string 'mass' (I am in the process of adding a separate 'PhaseList' variable to the outout so this should be available in later versions).\n",
    "\n",
    "Have a look at the code below. \n",
    "\n",
    "- What phase is predicted to crystallize from these magmas within 5 degrees of the liquidus temperature?\n",
    "- Most of these inclusions are found in olivine crystals. Is olivine the stable phase at these conditions?\n",
    "- What parameters could we change that might influence the phase stability? **Have a go at re-runing the findSatPressure and equilibrate_multi functions with different conditions to see how this affects the phase stability.**"
   ]
  },
  {
   "cell_type": "code",
   "execution_count": 52,
   "metadata": {},
   "outputs": [],
   "source": [
    "Equil.loc[:,Equil.columns.str.contains('mass')]"
   ]
  },
  {
   "cell_type": "markdown",
   "metadata": {},
   "source": [
    "# Part 4 - Optional extra: Modelling the influence of starting parameters on fractional crystallization trajectories"
   ]
  },
  {
   "cell_type": "markdown",
   "metadata": {},
   "source": [
    "One of the interesting features of the Aleutian arc is the transition from tholeiitic differentiation series at the SW end of the arc (including Shishaldin) through to calc-alkaline differentiation series at the NE end of the arc (including Augustine). Okmok actually lies intermediate between the two end-members and so what we can do with PetThermoTools is take an estimate for a relatively primitive magma composition from Okmok as our starting composition to investigate how changing the crystallization parameters might control whether magmas follow a calc-alkaline or tholeiitic crystallization trajectory. \n",
    "\n",
    "This idea for this workflow is taken from an in review (or in revision) paper by Brad Pitcher which I saw an early version presented at AGU in 2019. To learn more about the calc-alkaline vs tholeiitic differentation series in the Aleutians I recommend this paper by Zimmer et al. (https://doi.org/10.1093/petrology/egq062). Within this paper they define a parameter THI representing the ratio of the FeOt content of the magma at 4 wt% MgO to the FeOt content at 8 wt% MgO. Assuming a fixed starting composition for our models (below) we can simply use the FeOt content at 4 wt% MgO to assess the influence of different factors on the calc-alkaline vs tholeiitic differentiation series."
   ]
  },
  {
   "cell_type": "code",
   "execution_count": 32,
   "metadata": {},
   "outputs": [],
   "source": [
    "# Let's define our starting composition.\n",
    "okmok_starting = {'SiO2': 50.04,\n",
    "                'TiO2': 0.81,\n",
    "                'Al2O3': 15.01,\n",
    "                'FeOt': 9.62,\n",
    "                'MnO': 0.16,\n",
    "                'MgO': 7.28,\n",
    "                'CaO': 11.52,\n",
    "                'Na2O': 2.54,\n",
    "                'K2O': 0.30,\n",
    "                'P2O5': 0.06}"
   ]
  },
  {
   "cell_type": "code",
   "execution_count": 39,
   "metadata": {},
   "outputs": [],
   "source": [
    "# Generate 16 linearly spaces units between -1 and +3 log units around the FMQ buffer\n",
    "# H2O = np.linspace()\n",
    "# P_bar = np.linspace()\n",
    "fO2_offset = np.linspace(-1,3,4)"
   ]
  },
  {
   "cell_type": "code",
   "execution_count": 40,
   "metadata": {},
   "outputs": [
    {
     "data": {
      "application/vnd.jupyter.widget-view+json": {
       "model_id": "d7326851a2694cfab0614e6b412aa04c",
       "version_major": 2,
       "version_minor": 0
      },
      "text/plain": [
       "  0%|          | 0/25 [00:00<?, ?it/s]"
      ]
     },
     "metadata": {},
     "output_type": "display_data"
    }
   ],
   "source": [
    "# Run the calculation\n",
    "Results = ptt.isobaric_crystallisation(Model = \"MELTSv1.2.0\",\n",
    "                                       bulk = okmok_starting,\n",
    "                                       P_bar = 2000,\n",
    "                                       H2O_Liq = 4,\n",
    "                                       fO2_buffer = \"FMQ\",\n",
    "                                       fO2_offset = fO2_offset,\n",
    "                                       find_liquidus = True,\n",
    "                                       Frac_fluid=True,\n",
    "                                       Frac_solid=True,\n",
    "                                       T_end_C = 950,\n",
    "                                       dt_C = 2,\n",
    "                                       label = 'fO2')\n",
    "\n",
    "# inspect the outputs\n",
    "Results.keys()"
   ]
  },
  {
   "cell_type": "code",
   "execution_count": null,
   "metadata": {},
   "outputs": [
    {
     "data": {
      "text/plain": [
       "<matplotlib.legend.Legend at 0x17c29da10>"
      ]
     },
     "metadata": {},
     "output_type": "display_data"
    },
    {
     "data": {
      "image/png": "[encoded data removed]",
      "text/plain": [
       "<Figure size 640x480 with 1 Axes>"
      ]
     },
     "metadata": {},
     "output_type": "display_data"
    }
   ],
   "source": [
    "x='SiO2_Liq'\n",
    "y='FeO/MgO'\n",
    "for key in Results.keys():\n",
    "    print(key)\n",
    "    # Lets add a column for FeO/MgO\n",
    "    fO2 = Results[key]['Input']['fO2_offset']\n",
    "    Results[key]['All']['FeO/MgO']=Results[key]['All']['FeOt_Liq']/Results[key]['All']['MgO_Liq']\n",
    "    plt.plot(Results[key]['All'][x],Results[key]['All'][y],\n",
    "    '-', label=key)\n",
    "\n",
    "## Lets add approximate boundary from web plot digitizer!\n",
    "plt.plot([45, 64.95495495495496], [0.3876918668171161, 3.5129224652087476], '-k', label='Tho-CA divide')\n",
    "\n",
    "plt.xlim([47, 65])\n",
    "plt.annotate('CalcAl', xy=[0.5, 0.2], xycoords=\"axes fraction\", fontsize=10)\n",
    "plt.annotate('Tholeiite', xy=[0.5, 0.9], xycoords=\"axes fraction\", fontsize=10)\n",
    "\n",
    "plt.ylabel('FeO/MgO ')\n",
    "plt.xlabel('SiO2 (wt%)')\n",
    "plt.legend()"
   ]
  },
  {
   "cell_type": "code",
   "execution_count": null,
   "metadata": {},
   "outputs": [
    {
     "data": {
      "image/png": "[encoded data removed]",
      "text/plain": [
       "<Figure size 640x480 with 1 Axes>"
      ]
     },
     "metadata": {},
     "output_type": "display_data"
    }
   ],
   "source": [
    "x='mass_Liq'\n",
    "y='spinel1_cumsum'\n",
    "\n",
    "for key in Results.keys():\n",
    "    print(y)\n",
    "    print(Results[key]['Mass'].columns)\n",
    "    if y in Results[key]['Mass'].columns:\n",
    "        print(key)\n",
    "        plt.plot(Results[key]['All'][x]/100,Results[key]['Mass'][y],\n",
    "        '-', label=key)\n",
    "        plt.legend()\n",
    "        plt.title('FeTi oxides')"
   ]
  },
  {
   "cell_type": "code",
   "execution_count": 2,
   "metadata": {},
   "outputs": [],
   "source": [
    "for key in Results:\n",
    "    plt.plot(Results[key]['All']['MgO_Liq'], Results[key]['All']['FeOt_Liq'], '-', label=key)\n",
    "plt.legend()\n",
    "plt.xlabel('MgO')\n",
    "plt.ylabel('FeO')"
   ]
  },
  {
   "cell_type": "markdown",
   "metadata": {},
   "source": [
    "Rerun the code changing (independently) the fO2, H2O and pressure of the system. Which of these has the biggest influence on the differentiation path most likely to be followed?"
   ]
  },
  {
   "cell_type": "markdown",
   "metadata": {},
   "source": []
  }
 ],
 "metadata": {
  "kernelspec": {
   "display_name": "base",
   "language": "python",
   "name": "python3"
  },
  "language_info": {
   "codemirror_mode": {
    "name": "ipython",
    "version": 3
   },
   "file_extension": ".py",
   "mimetype": "text/x-python",
   "name": "python",
   "nbconvert_exporter": "python",
   "pygments_lexer": "ipython3",
   "version": "3.11.0"
  },
  "orig_nbformat": 4
 },
 "nbformat": 4,
 "nbformat_minor": 2
}
